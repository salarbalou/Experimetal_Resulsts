{
  "nbformat": 4,
  "nbformat_minor": 0,
  "metadata": {
    "colab": {
      "name": "PID Controller+Etta Modeling.ipynb",
      "provenance": [],
      "collapsed_sections": [],
      "authorship_tag": "ABX9TyOo17psh6qRcYYWGNLSqBTl",
      "include_colab_link": true
    },
    "kernelspec": {
      "name": "python3",
      "display_name": "Python 3"
    },
    "language_info": {
      "name": "python"
    }
  },
  "cells": [
    {
      "cell_type": "markdown",
      "metadata": {
        "id": "view-in-github",
        "colab_type": "text"
      },
      "source": [
        "<a href=\"https://colab.research.google.com/github/salarbalou/Experimetal_Resulsts/blob/main/PID_Controller%2BEtta_Modeling.ipynb\" target=\"_parent\"><img src=\"https://colab.research.google.com/assets/colab-badge.svg\" alt=\"Open In Colab\"/></a>"
      ]
    },
    {
      "cell_type": "code",
      "execution_count": 1,
      "metadata": {
        "id": "4BLzBAvfgZR7"
      },
      "outputs": [],
      "source": [
        "# Steady State Analyis of 10ul RCQD in a costum built chip\n",
        "import numpy as np\n",
        "import scipy as sc\n",
        "import plotly.graph_objects as go\n",
        "from plotly.subplots import make_subplots\n",
        "import plotly.io as pio\n",
        "import re\n",
        "import requests as req\n",
        "import scipy.optimize as opt"
      ]
    },
    {
      "cell_type": "markdown",
      "source": [
        " PID parameters 𝐾𝑃, 𝐾𝐼, 𝑎𝑛𝑑 𝐾𝑑 most be found using the Zeigler-Nichols first tuning table"
      ],
      "metadata": {
        "id": "pwiUvsEnlX8P"
      }
    },
    {
      "cell_type": "code",
      "source": [
        "regex = re.compile(\"^([0-9.]+)\\s[,]\\s([0-9.]+)\\s[,]\\s([0-9.]+)\\s[,]\\s([0-9.]+)\\s[,]\\s([0-9.]+)\", re.MULTILINE)\n",
        "datatext = req.get(\"https://raw.githubusercontent.com/salarbalou/Photothermal_Study_CQDs/main/5-31-22-PIDkp%3D10-ki%3D1-Laser-10x%20CQD.txt\").text\n",
        "datalist = regex.findall(datatext)\n",
        "datat = []\n",
        "dataT = []\n",
        "dataa = []\n",
        "datab = []\n",
        "datac = []\n",
        "for i in range (153):\n",
        "   datat.append(float(datalist[i][0]))\n",
        "for j in range (153):\n",
        "   dataT.append(float(datalist[j][1]))\n",
        "for k in range (153):\n",
        "   dataa.append(float(datalist[k][2]))\n",
        "for m in range (153):\n",
        "   datab.append(float(datalist[m][3]))\n",
        "t = np.array(datat)\n",
        "T = np.array(dataT)\n",
        "a = np.array(dataa)\n",
        "b = np.array(datab)\n",
        "fig = make_subplots(rows= 2, cols= 1)\n",
        "fig.add_trace(go.Scatter(x = t, y = a, name = 'PWM Profile'), row = 1, col = 1)\n",
        "fig.add_trace(go.Scatter(x = np.linspace(0, t[-1], 100), y = np.ones(100)*95, name = 'Setpoint'), row = 2, col = 1)\n",
        "fig.add_trace(go.Scatter(x = t, y = T, name = 'Temperature Profile'), row = 2, col = 1)\n",
        "fig.update_xaxes(title = 'time (s)', range = [0, 103])\n",
        "fig.update_yaxes(title = 'PWM of Arduino', row= 1, col = 1)\n",
        "fig.update_yaxes(title = 'Temperature (˚C)', row= 2, col = 1)\n",
        "fig.update_layout(height = 1000, width = 1000, legend = dict(title = f'kp = 10, ki = 1'))"
      ],
      "metadata": {
        "id": "sc4rlUkf0hkj",
        "colab": {
          "base_uri": "https://localhost:8080/",
          "height": 1000
        },
        "outputId": "20418490-0110-435c-8a94-c501db033cc8"
      },
      "execution_count": 2,
      "outputs": [
        {
          "output_type": "display_data",
          "data": {
            "text/html": [
              "<html>\n",
              "<head><meta charset=\"utf-8\" /></head>\n",
              "<body>\n",
              "    <div>            <script src=\"https://cdnjs.cloudflare.com/ajax/libs/mathjax/2.7.5/MathJax.js?config=TeX-AMS-MML_SVG\"></script><script type=\"text/javascript\">if (window.MathJax) {MathJax.Hub.Config({SVG: {font: \"STIX-Web\"}});}</script>                <script type=\"text/javascript\">window.PlotlyConfig = {MathJaxConfig: 'local'};</script>\n",
              "        <script src=\"https://cdn.plot.ly/plotly-2.8.3.min.js\"></script>                <div id=\"473bb7fa-601a-4aa7-ad0d-f3d20fafc47f\" class=\"plotly-graph-div\" style=\"height:1000px; width:1000px;\"></div>            <script type=\"text/javascript\">                                    window.PLOTLYENV=window.PLOTLYENV || {};                                    if (document.getElementById(\"473bb7fa-601a-4aa7-ad0d-f3d20fafc47f\")) {                    Plotly.newPlot(                        \"473bb7fa-601a-4aa7-ad0d-f3d20fafc47f\",                        [{\"name\":\"PWM Profile\",\"x\":[0.0,1.0,2.0,3.0,4.0,5.0,6.0,7.0,8.0,9.0,10.0,11.0,12.0,13.0,14.0,15.0,16.0,17.0,18.0,19.0,20.0,21.0,22.0,23.0,24.0,25.0,26.0,27.0,28.0,29.0,30.0,31.0,32.0,33.0,34.0,35.0,36.0,37.0,38.0,39.0,40.0,41.0,42.0,43.0,44.0,45.0,46.0,47.0,48.0,49.0,50.0,51.0,52.0,53.0,54.0,55.0,56.0,57.0,58.0,59.0,60.0,61.0,62.0,63.0,64.0,65.0,66.0,67.0,68.0,69.0,70.0,71.0,72.0,73.0,74.0,75.0,76.0,77.0,78.0,79.0,80.0,81.0,82.0,83.0,84.0,85.0,86.0,87.0,88.0,89.0,90.0,91.0,92.0,93.0,94.0,95.0,96.0,97.0,98.0,99.0,100.0,101.0,102.0,103.0,104.0,105.0,106.0,107.0,108.0,109.0,110.0,111.0,112.0,113.0,114.0,115.0,116.0,117.0,118.0,119.0,120.0,121.0,122.0,123.0,124.0,125.0,126.0,127.0,128.0,129.0,130.0,131.0,132.0,133.0,134.0,135.0,136.0,137.0,138.0,139.0,140.0,141.0,142.0,143.0,145.0,146.0,147.0,148.0,149.0,150.0,151.0,152.0,153.0],\"y\":[90.0,90.0,90.0,90.0,90.0,90.0,90.0,90.0,90.0,90.0,90.0,90.0,90.0,90.0,90.0,90.0,90.0,90.0,90.0,90.0,90.0,90.0,90.0,90.0,90.0,68.55,55.38,49.6,57.6,66.62,76.66,70.89,61.79,60.35,61.72,66.15,65.47,61.99,61.06,60.13,59.21,61.08,68.83,63.31,60.08,56.6,55.67,57.55,62.49,67.94,68.28,65.82,54.69,50.95,60.99,63.64,66.54,66.88,61.62,53.03,57.72,60.1,59.94,56.97,59.36,62.0,62.09,59.38,59.21,59.05,56.08,61.27,66.98,64.77,56.7,56.28,55.86,63.86,61.4,58.69,61.33,61.42,55.9,55.48,60.67,66.38,64.17,64.52,53.64,50.16,52.04,59.78,65.49,68.9,64.14,64.49,53.61,55.74,55.32,57.71,65.96,63.76,58.49,58.49,58.49,58.49,58.49,58.49,58.49,58.49,58.49,58.49,58.49,58.49,58.49,58.49,58.49,58.49,58.49,58.49,58.49,58.49,58.49,58.49,58.49,58.49,58.49,58.49,58.49,58.49,58.49,58.49,58.49,58.49,58.49,58.49,58.49,58.49,58.49,58.49,58.49,58.49,58.49,58.49,58.49,58.49,58.49,58.49,58.49,58.49,58.49,58.49,58.49],\"type\":\"scatter\",\"xaxis\":\"x\",\"yaxis\":\"y\"},{\"name\":\"Setpoint\",\"x\":[0.0,1.5454545454545454,3.090909090909091,4.636363636363637,6.181818181818182,7.727272727272727,9.272727272727273,10.818181818181818,12.363636363636363,13.909090909090908,15.454545454545453,17.0,18.545454545454547,20.09090909090909,21.636363636363637,23.18181818181818,24.727272727272727,26.272727272727273,27.818181818181817,29.363636363636363,30.909090909090907,32.45454545454545,34.0,35.54545454545455,37.09090909090909,38.63636363636363,40.18181818181818,41.72727272727273,43.27272727272727,44.81818181818182,46.36363636363636,47.90909090909091,49.45454545454545,51.0,52.54545454545455,54.090909090909086,55.63636363636363,57.18181818181818,58.72727272727273,60.27272727272727,61.81818181818181,63.36363636363636,64.9090909090909,66.45454545454545,68.0,69.54545454545455,71.0909090909091,72.63636363636364,74.18181818181819,75.72727272727272,77.27272727272727,78.81818181818181,80.36363636363636,81.9090909090909,83.45454545454545,85.0,86.54545454545455,88.0909090909091,89.63636363636364,91.18181818181817,92.72727272727272,94.27272727272727,95.81818181818181,97.36363636363636,98.9090909090909,100.45454545454545,102.0,103.54545454545455,105.0909090909091,106.63636363636364,108.18181818181817,109.72727272727272,111.27272727272727,112.81818181818181,114.36363636363636,115.9090909090909,117.45454545454545,119.0,120.54545454545455,122.0909090909091,123.63636363636363,125.18181818181817,126.72727272727272,128.27272727272728,129.8181818181818,131.36363636363637,132.9090909090909,134.45454545454544,136.0,137.54545454545453,139.0909090909091,140.63636363636363,142.1818181818182,143.72727272727272,145.27272727272728,146.8181818181818,148.36363636363637,149.9090909090909,151.45454545454544,153.0],\"y\":[95.0,95.0,95.0,95.0,95.0,95.0,95.0,95.0,95.0,95.0,95.0,95.0,95.0,95.0,95.0,95.0,95.0,95.0,95.0,95.0,95.0,95.0,95.0,95.0,95.0,95.0,95.0,95.0,95.0,95.0,95.0,95.0,95.0,95.0,95.0,95.0,95.0,95.0,95.0,95.0,95.0,95.0,95.0,95.0,95.0,95.0,95.0,95.0,95.0,95.0,95.0,95.0,95.0,95.0,95.0,95.0,95.0,95.0,95.0,95.0,95.0,95.0,95.0,95.0,95.0,95.0,95.0,95.0,95.0,95.0,95.0,95.0,95.0,95.0,95.0,95.0,95.0,95.0,95.0,95.0,95.0,95.0,95.0,95.0,95.0,95.0,95.0,95.0,95.0,95.0,95.0,95.0,95.0,95.0,95.0,95.0,95.0,95.0,95.0,95.0],\"type\":\"scatter\",\"xaxis\":\"x2\",\"yaxis\":\"y2\"},{\"name\":\"Temperature Profile\",\"x\":[0.0,1.0,2.0,3.0,4.0,5.0,6.0,7.0,8.0,9.0,10.0,11.0,12.0,13.0,14.0,15.0,16.0,17.0,18.0,19.0,20.0,21.0,22.0,23.0,24.0,25.0,26.0,27.0,28.0,29.0,30.0,31.0,32.0,33.0,34.0,35.0,36.0,37.0,38.0,39.0,40.0,41.0,42.0,43.0,44.0,45.0,46.0,47.0,48.0,49.0,50.0,51.0,52.0,53.0,54.0,55.0,56.0,57.0,58.0,59.0,60.0,61.0,62.0,63.0,64.0,65.0,66.0,67.0,68.0,69.0,70.0,71.0,72.0,73.0,74.0,75.0,76.0,77.0,78.0,79.0,80.0,81.0,82.0,83.0,84.0,85.0,86.0,87.0,88.0,89.0,90.0,91.0,92.0,93.0,94.0,95.0,96.0,97.0,98.0,99.0,100.0,101.0,102.0,103.0,104.0,105.0,106.0,107.0,108.0,109.0,110.0,111.0,112.0,113.0,114.0,115.0,116.0,117.0,118.0,119.0,120.0,121.0,122.0,123.0,124.0,125.0,126.0,127.0,128.0,129.0,130.0,131.0,132.0,133.0,134.0,135.0,136.0,137.0,138.0,139.0,140.0,141.0,142.0,143.0,145.0,146.0,147.0,148.0,149.0,150.0,151.0,152.0,153.0],\"y\":[25.76,25.51,25.25,25.25,28.82,32.91,41.58,47.45,51.79,54.59,59.44,63.27,66.84,70.67,74.24,77.3,80.11,82.66,85.21,87.25,89.81,91.85,93.38,94.91,96.95,97.97,98.23,97.2,96.18,95.16,95.67,96.44,96.44,96.18,95.67,95.67,95.93,95.93,95.93,95.93,95.67,94.91,95.42,95.67,95.93,95.93,95.67,95.16,94.65,94.65,94.91,95.93,96.18,95.16,94.91,94.65,94.65,95.16,95.93,95.42,95.16,95.16,95.42,95.16,94.91,94.91,95.16,95.16,95.16,95.42,94.91,94.4,94.65,95.42,95.42,95.42,94.65,94.91,95.16,94.91,94.91,95.42,95.42,94.91,94.4,94.65,94.65,95.67,95.93,95.67,94.91,94.4,94.14,94.65,94.65,95.67,95.42,95.42,95.16,94.4,94.65,95.16,95.16,95.16,92.1,89.04,86.23,83.43,81.64,79.34,77.3,75.52,73.73,72.46,70.41,69.14,67.35,65.82,64.29,63.01,61.74,60.46,59.19,57.91,57.15,60.21,61.74,63.27,63.01,61.99,59.7,59.19,60.72,62.5,62.5,61.23,59.44,58.93,59.7,61.23,61.99,60.72,60.21,58.93,59.95,61.48,63.27,63.01,61.48,59.7,59.44,60.72,62.25],\"type\":\"scatter\",\"xaxis\":\"x2\",\"yaxis\":\"y2\"}],                        {\"template\":{\"data\":{\"bar\":[{\"error_x\":{\"color\":\"#2a3f5f\"},\"error_y\":{\"color\":\"#2a3f5f\"},\"marker\":{\"line\":{\"color\":\"#E5ECF6\",\"width\":0.5},\"pattern\":{\"fillmode\":\"overlay\",\"size\":10,\"solidity\":0.2}},\"type\":\"bar\"}],\"barpolar\":[{\"marker\":{\"line\":{\"color\":\"#E5ECF6\",\"width\":0.5},\"pattern\":{\"fillmode\":\"overlay\",\"size\":10,\"solidity\":0.2}},\"type\":\"barpolar\"}],\"carpet\":[{\"aaxis\":{\"endlinecolor\":\"#2a3f5f\",\"gridcolor\":\"white\",\"linecolor\":\"white\",\"minorgridcolor\":\"white\",\"startlinecolor\":\"#2a3f5f\"},\"baxis\":{\"endlinecolor\":\"#2a3f5f\",\"gridcolor\":\"white\",\"linecolor\":\"white\",\"minorgridcolor\":\"white\",\"startlinecolor\":\"#2a3f5f\"},\"type\":\"carpet\"}],\"choropleth\":[{\"colorbar\":{\"outlinewidth\":0,\"ticks\":\"\"},\"type\":\"choropleth\"}],\"contour\":[{\"colorbar\":{\"outlinewidth\":0,\"ticks\":\"\"},\"colorscale\":[[0.0,\"#0d0887\"],[0.1111111111111111,\"#46039f\"],[0.2222222222222222,\"#7201a8\"],[0.3333333333333333,\"#9c179e\"],[0.4444444444444444,\"#bd3786\"],[0.5555555555555556,\"#d8576b\"],[0.6666666666666666,\"#ed7953\"],[0.7777777777777778,\"#fb9f3a\"],[0.8888888888888888,\"#fdca26\"],[1.0,\"#f0f921\"]],\"type\":\"contour\"}],\"contourcarpet\":[{\"colorbar\":{\"outlinewidth\":0,\"ticks\":\"\"},\"type\":\"contourcarpet\"}],\"heatmap\":[{\"colorbar\":{\"outlinewidth\":0,\"ticks\":\"\"},\"colorscale\":[[0.0,\"#0d0887\"],[0.1111111111111111,\"#46039f\"],[0.2222222222222222,\"#7201a8\"],[0.3333333333333333,\"#9c179e\"],[0.4444444444444444,\"#bd3786\"],[0.5555555555555556,\"#d8576b\"],[0.6666666666666666,\"#ed7953\"],[0.7777777777777778,\"#fb9f3a\"],[0.8888888888888888,\"#fdca26\"],[1.0,\"#f0f921\"]],\"type\":\"heatmap\"}],\"heatmapgl\":[{\"colorbar\":{\"outlinewidth\":0,\"ticks\":\"\"},\"colorscale\":[[0.0,\"#0d0887\"],[0.1111111111111111,\"#46039f\"],[0.2222222222222222,\"#7201a8\"],[0.3333333333333333,\"#9c179e\"],[0.4444444444444444,\"#bd3786\"],[0.5555555555555556,\"#d8576b\"],[0.6666666666666666,\"#ed7953\"],[0.7777777777777778,\"#fb9f3a\"],[0.8888888888888888,\"#fdca26\"],[1.0,\"#f0f921\"]],\"type\":\"heatmapgl\"}],\"histogram\":[{\"marker\":{\"pattern\":{\"fillmode\":\"overlay\",\"size\":10,\"solidity\":0.2}},\"type\":\"histogram\"}],\"histogram2d\":[{\"colorbar\":{\"outlinewidth\":0,\"ticks\":\"\"},\"colorscale\":[[0.0,\"#0d0887\"],[0.1111111111111111,\"#46039f\"],[0.2222222222222222,\"#7201a8\"],[0.3333333333333333,\"#9c179e\"],[0.4444444444444444,\"#bd3786\"],[0.5555555555555556,\"#d8576b\"],[0.6666666666666666,\"#ed7953\"],[0.7777777777777778,\"#fb9f3a\"],[0.8888888888888888,\"#fdca26\"],[1.0,\"#f0f921\"]],\"type\":\"histogram2d\"}],\"histogram2dcontour\":[{\"colorbar\":{\"outlinewidth\":0,\"ticks\":\"\"},\"colorscale\":[[0.0,\"#0d0887\"],[0.1111111111111111,\"#46039f\"],[0.2222222222222222,\"#7201a8\"],[0.3333333333333333,\"#9c179e\"],[0.4444444444444444,\"#bd3786\"],[0.5555555555555556,\"#d8576b\"],[0.6666666666666666,\"#ed7953\"],[0.7777777777777778,\"#fb9f3a\"],[0.8888888888888888,\"#fdca26\"],[1.0,\"#f0f921\"]],\"type\":\"histogram2dcontour\"}],\"mesh3d\":[{\"colorbar\":{\"outlinewidth\":0,\"ticks\":\"\"},\"type\":\"mesh3d\"}],\"parcoords\":[{\"line\":{\"colorbar\":{\"outlinewidth\":0,\"ticks\":\"\"}},\"type\":\"parcoords\"}],\"pie\":[{\"automargin\":true,\"type\":\"pie\"}],\"scatter\":[{\"marker\":{\"colorbar\":{\"outlinewidth\":0,\"ticks\":\"\"}},\"type\":\"scatter\"}],\"scatter3d\":[{\"line\":{\"colorbar\":{\"outlinewidth\":0,\"ticks\":\"\"}},\"marker\":{\"colorbar\":{\"outlinewidth\":0,\"ticks\":\"\"}},\"type\":\"scatter3d\"}],\"scattercarpet\":[{\"marker\":{\"colorbar\":{\"outlinewidth\":0,\"ticks\":\"\"}},\"type\":\"scattercarpet\"}],\"scattergeo\":[{\"marker\":{\"colorbar\":{\"outlinewidth\":0,\"ticks\":\"\"}},\"type\":\"scattergeo\"}],\"scattergl\":[{\"marker\":{\"colorbar\":{\"outlinewidth\":0,\"ticks\":\"\"}},\"type\":\"scattergl\"}],\"scattermapbox\":[{\"marker\":{\"colorbar\":{\"outlinewidth\":0,\"ticks\":\"\"}},\"type\":\"scattermapbox\"}],\"scatterpolar\":[{\"marker\":{\"colorbar\":{\"outlinewidth\":0,\"ticks\":\"\"}},\"type\":\"scatterpolar\"}],\"scatterpolargl\":[{\"marker\":{\"colorbar\":{\"outlinewidth\":0,\"ticks\":\"\"}},\"type\":\"scatterpolargl\"}],\"scatterternary\":[{\"marker\":{\"colorbar\":{\"outlinewidth\":0,\"ticks\":\"\"}},\"type\":\"scatterternary\"}],\"surface\":[{\"colorbar\":{\"outlinewidth\":0,\"ticks\":\"\"},\"colorscale\":[[0.0,\"#0d0887\"],[0.1111111111111111,\"#46039f\"],[0.2222222222222222,\"#7201a8\"],[0.3333333333333333,\"#9c179e\"],[0.4444444444444444,\"#bd3786\"],[0.5555555555555556,\"#d8576b\"],[0.6666666666666666,\"#ed7953\"],[0.7777777777777778,\"#fb9f3a\"],[0.8888888888888888,\"#fdca26\"],[1.0,\"#f0f921\"]],\"type\":\"surface\"}],\"table\":[{\"cells\":{\"fill\":{\"color\":\"#EBF0F8\"},\"line\":{\"color\":\"white\"}},\"header\":{\"fill\":{\"color\":\"#C8D4E3\"},\"line\":{\"color\":\"white\"}},\"type\":\"table\"}]},\"layout\":{\"annotationdefaults\":{\"arrowcolor\":\"#2a3f5f\",\"arrowhead\":0,\"arrowwidth\":1},\"autotypenumbers\":\"strict\",\"coloraxis\":{\"colorbar\":{\"outlinewidth\":0,\"ticks\":\"\"}},\"colorscale\":{\"diverging\":[[0,\"#8e0152\"],[0.1,\"#c51b7d\"],[0.2,\"#de77ae\"],[0.3,\"#f1b6da\"],[0.4,\"#fde0ef\"],[0.5,\"#f7f7f7\"],[0.6,\"#e6f5d0\"],[0.7,\"#b8e186\"],[0.8,\"#7fbc41\"],[0.9,\"#4d9221\"],[1,\"#276419\"]],\"sequential\":[[0.0,\"#0d0887\"],[0.1111111111111111,\"#46039f\"],[0.2222222222222222,\"#7201a8\"],[0.3333333333333333,\"#9c179e\"],[0.4444444444444444,\"#bd3786\"],[0.5555555555555556,\"#d8576b\"],[0.6666666666666666,\"#ed7953\"],[0.7777777777777778,\"#fb9f3a\"],[0.8888888888888888,\"#fdca26\"],[1.0,\"#f0f921\"]],\"sequentialminus\":[[0.0,\"#0d0887\"],[0.1111111111111111,\"#46039f\"],[0.2222222222222222,\"#7201a8\"],[0.3333333333333333,\"#9c179e\"],[0.4444444444444444,\"#bd3786\"],[0.5555555555555556,\"#d8576b\"],[0.6666666666666666,\"#ed7953\"],[0.7777777777777778,\"#fb9f3a\"],[0.8888888888888888,\"#fdca26\"],[1.0,\"#f0f921\"]]},\"colorway\":[\"#636efa\",\"#EF553B\",\"#00cc96\",\"#ab63fa\",\"#FFA15A\",\"#19d3f3\",\"#FF6692\",\"#B6E880\",\"#FF97FF\",\"#FECB52\"],\"font\":{\"color\":\"#2a3f5f\"},\"geo\":{\"bgcolor\":\"white\",\"lakecolor\":\"white\",\"landcolor\":\"#E5ECF6\",\"showlakes\":true,\"showland\":true,\"subunitcolor\":\"white\"},\"hoverlabel\":{\"align\":\"left\"},\"hovermode\":\"closest\",\"mapbox\":{\"style\":\"light\"},\"paper_bgcolor\":\"white\",\"plot_bgcolor\":\"#E5ECF6\",\"polar\":{\"angularaxis\":{\"gridcolor\":\"white\",\"linecolor\":\"white\",\"ticks\":\"\"},\"bgcolor\":\"#E5ECF6\",\"radialaxis\":{\"gridcolor\":\"white\",\"linecolor\":\"white\",\"ticks\":\"\"}},\"scene\":{\"xaxis\":{\"backgroundcolor\":\"#E5ECF6\",\"gridcolor\":\"white\",\"gridwidth\":2,\"linecolor\":\"white\",\"showbackground\":true,\"ticks\":\"\",\"zerolinecolor\":\"white\"},\"yaxis\":{\"backgroundcolor\":\"#E5ECF6\",\"gridcolor\":\"white\",\"gridwidth\":2,\"linecolor\":\"white\",\"showbackground\":true,\"ticks\":\"\",\"zerolinecolor\":\"white\"},\"zaxis\":{\"backgroundcolor\":\"#E5ECF6\",\"gridcolor\":\"white\",\"gridwidth\":2,\"linecolor\":\"white\",\"showbackground\":true,\"ticks\":\"\",\"zerolinecolor\":\"white\"}},\"shapedefaults\":{\"line\":{\"color\":\"#2a3f5f\"}},\"ternary\":{\"aaxis\":{\"gridcolor\":\"white\",\"linecolor\":\"white\",\"ticks\":\"\"},\"baxis\":{\"gridcolor\":\"white\",\"linecolor\":\"white\",\"ticks\":\"\"},\"bgcolor\":\"#E5ECF6\",\"caxis\":{\"gridcolor\":\"white\",\"linecolor\":\"white\",\"ticks\":\"\"}},\"title\":{\"x\":0.05},\"xaxis\":{\"automargin\":true,\"gridcolor\":\"white\",\"linecolor\":\"white\",\"ticks\":\"\",\"title\":{\"standoff\":15},\"zerolinecolor\":\"white\",\"zerolinewidth\":2},\"yaxis\":{\"automargin\":true,\"gridcolor\":\"white\",\"linecolor\":\"white\",\"ticks\":\"\",\"title\":{\"standoff\":15},\"zerolinecolor\":\"white\",\"zerolinewidth\":2}}},\"xaxis\":{\"anchor\":\"y\",\"domain\":[0.0,1.0],\"title\":{\"text\":\"time (s)\"},\"range\":[0,103]},\"yaxis\":{\"anchor\":\"x\",\"domain\":[0.575,1.0],\"title\":{\"text\":\"PWM of Arduino\"}},\"xaxis2\":{\"anchor\":\"y2\",\"domain\":[0.0,1.0],\"title\":{\"text\":\"time (s)\"},\"range\":[0,103]},\"yaxis2\":{\"anchor\":\"x2\",\"domain\":[0.0,0.425],\"title\":{\"text\":\"Temperature (\\u02daC)\"}},\"height\":1000,\"width\":1000,\"legend\":{\"title\":{\"text\":\"kp = 10, ki = 1\"}}},                        {\"responsive\": true}                    ).then(function(){\n",
              "                            \n",
              "var gd = document.getElementById('473bb7fa-601a-4aa7-ad0d-f3d20fafc47f');\n",
              "var x = new MutationObserver(function (mutations, observer) {{\n",
              "        var display = window.getComputedStyle(gd).display;\n",
              "        if (!display || display === 'none') {{\n",
              "            console.log([gd, 'removed!']);\n",
              "            Plotly.purge(gd);\n",
              "            observer.disconnect();\n",
              "        }}\n",
              "}});\n",
              "\n",
              "// Listen for the removal of the full notebook cells\n",
              "var notebookContainer = gd.closest('#notebook-container');\n",
              "if (notebookContainer) {{\n",
              "    x.observe(notebookContainer, {childList: true});\n",
              "}}\n",
              "\n",
              "// Listen for the clearing of the current output cell\n",
              "var outputEl = gd.closest('.output');\n",
              "if (outputEl) {{\n",
              "    x.observe(outputEl, {childList: true});\n",
              "}}\n",
              "\n",
              "                        })                };                            </script>        </div>\n",
              "</body>\n",
              "</html>"
            ]
          },
          "metadata": {}
        }
      ]
    },
    {
      "cell_type": "code",
      "source": [
        "#Ziegler-Nicholas First Method of Tuning kp, ki, and kd\n",
        "tau = t[np.max(np.where(np.array(T[0:103], dtype = int) <= np.array(0.63 * np.max(T[0:103]), dtype = int))[0])] - t[np.min(np.where(np.gradient(T) > 0.5))]\n",
        "l = t[np.min(np.where(np.gradient(T) > 0.5))]\n",
        "kp = 0.9 * (tau / l)"
      ],
      "metadata": {
        "id": "W8beuaGw2FOo"
      },
      "execution_count": 3,
      "outputs": []
    },
    {
      "cell_type": "code",
      "source": [
        "regex = re.compile(\"^([0-9.]+)\\s[,]\\s([0-9.]+)\\s[,]\\s([0-9.]+)\\s[,]\\s([0-9.]+)\", re.MULTILINE)\n",
        "datatext = req.get(\"https://raw.githubusercontent.com/salarbalou/Photothermal_Study_CQDs/main/6-1-22-no%20PID-10x%20RCQD-Thermal-profile.txt\").text\n",
        "datalist = regex.findall(datatext)\n",
        "datat = []\n",
        "dataT = []\n",
        "dataa = []\n",
        "datab = []\n",
        "for i in range (103):\n",
        "   datat.append(float(datalist[i][0]))\n",
        "for j in range (103):\n",
        "   dataT.append(float(datalist[j][1]))\n",
        "for k in range (103):\n",
        "   dataa.append(float(datalist[k][2]))\n",
        "t = np.array(datat)\n",
        "T = np.array(dataT)\n",
        "a = np.array(dataa)\n",
        "fig = make_subplots(rows= 2, cols= 1)\n",
        "fig.add_trace(go.Scatter(x = t, y = a, name = 'PWM Profile'), row = 1, col = 1)\n",
        "fig.add_trace(go.Scatter(x = np.linspace(0, t[-1], 100), y = np.ones(100)*95, name = 'Setpoint'), row = 2, col = 1)\n",
        "fig.add_trace(go.Scatter(x = t, y = T, name = 'Temperature Profile'), row = 2, col = 1)\n",
        "fig.update_xaxes(title = 'time (s)', range = [0, 103])\n",
        "fig.update_yaxes(title = 'PWM of Arduino', row= 1, col = 1)\n",
        "fig.update_yaxes(title = 'Temperature (˚C)', row= 2, col = 1)\n",
        "fig.update_layout(height = 1000, width = 1000, legend = dict(title = f'On-Off Control'))"
      ],
      "metadata": {
        "colab": {
          "base_uri": "https://localhost:8080/",
          "height": 1000
        },
        "id": "Keap8-hc5gAX",
        "outputId": "fc4ff40d-c842-4759-d727-f1b9f4a6160f"
      },
      "execution_count": 4,
      "outputs": [
        {
          "output_type": "display_data",
          "data": {
            "text/html": [
              "<html>\n",
              "<head><meta charset=\"utf-8\" /></head>\n",
              "<body>\n",
              "    <div>            <script src=\"https://cdnjs.cloudflare.com/ajax/libs/mathjax/2.7.5/MathJax.js?config=TeX-AMS-MML_SVG\"></script><script type=\"text/javascript\">if (window.MathJax) {MathJax.Hub.Config({SVG: {font: \"STIX-Web\"}});}</script>                <script type=\"text/javascript\">window.PlotlyConfig = {MathJaxConfig: 'local'};</script>\n",
              "        <script src=\"https://cdn.plot.ly/plotly-2.8.3.min.js\"></script>                <div id=\"844e81c8-2dc1-48c6-a945-35409aae1223\" class=\"plotly-graph-div\" style=\"height:1000px; width:1000px;\"></div>            <script type=\"text/javascript\">                                    window.PLOTLYENV=window.PLOTLYENV || {};                                    if (document.getElementById(\"844e81c8-2dc1-48c6-a945-35409aae1223\")) {                    Plotly.newPlot(                        \"844e81c8-2dc1-48c6-a945-35409aae1223\",                        [{\"name\":\"PWM Profile\",\"x\":[0.0,1.0,2.0,3.0,4.0,5.0,6.0,7.0,8.0,9.0,10.0,11.0,12.0,13.0,14.0,15.0,16.0,17.0,18.0,19.0,20.0,21.0,22.0,23.0,24.0,25.0,26.0,27.0,28.0,29.0,30.0,31.0,32.0,33.0,34.0,35.0,36.0,37.0,38.0,39.0,40.0,41.0,42.0,43.0,44.0,45.0,46.0,47.0,48.0,49.0,50.0,51.0,52.0,53.0,54.0,55.0,56.0,57.0,58.0,59.0,60.0,61.0,62.0,63.0,64.0,65.0,66.0,67.0,68.0,69.0,70.0,71.0,72.0,73.0,74.0,75.0,76.0,77.0,78.0,79.0,80.0,81.0,82.0,83.0,84.0,85.0,86.0,87.0,88.0,89.0,90.0,91.0,92.0,93.0,94.0,95.0,96.0,97.0,98.0,99.0,100.0,101.0,102.0],\"y\":[90.0,90.0,90.0,90.0,90.0,90.0,90.0,90.0,90.0,90.0,90.0,90.0,90.0,90.0,90.0,90.0,90.0,90.0,90.0,90.0,90.0,90.0,90.0,90.0,90.0,90.0,90.0,90.0,90.0,90.0,90.0,90.0,90.0,90.0,90.0,75.0,75.0,75.0,75.0,75.0,75.0,75.0,90.0,90.0,90.0,90.0,90.0,90.0,90.0,90.0,90.0,90.0,90.0,90.0,90.0,90.0,90.0,90.0,90.0,90.0,75.0,75.0,75.0,75.0,90.0,90.0,75.0,75.0,75.0,75.0,75.0,75.0,75.0,75.0,75.0,75.0,75.0,75.0,90.0,90.0,90.0,90.0,90.0,90.0,90.0,90.0,90.0,90.0,90.0,90.0,90.0,90.0,90.0,90.0,75.0,75.0,75.0,75.0,90.0,90.0,90.0,90.0,90.0],\"type\":\"scatter\",\"xaxis\":\"x\",\"yaxis\":\"y\"},{\"name\":\"Setpoint\",\"x\":[0.0,1.0303030303030303,2.0606060606060606,3.090909090909091,4.121212121212121,5.151515151515151,6.181818181818182,7.212121212121212,8.242424242424242,9.272727272727273,10.303030303030303,11.333333333333332,12.363636363636363,13.393939393939394,14.424242424242424,15.454545454545453,16.484848484848484,17.515151515151516,18.545454545454547,19.575757575757574,20.606060606060606,21.636363636363637,22.666666666666664,23.696969696969695,24.727272727272727,25.757575757575758,26.78787878787879,27.818181818181817,28.848484848484848,29.87878787878788,30.909090909090907,31.939393939393938,32.96969696969697,34.0,35.03030303030303,36.06060606060606,37.09090909090909,38.12121212121212,39.15151515151515,40.18181818181818,41.21212121212121,42.24242424242424,43.27272727272727,44.303030303030305,45.33333333333333,46.36363636363636,47.39393939393939,48.42424242424242,49.45454545454545,50.484848484848484,51.515151515151516,52.54545454545455,53.57575757575758,54.6060606060606,55.63636363636363,56.666666666666664,57.696969696969695,58.72727272727273,59.75757575757576,60.78787878787879,61.81818181818181,62.848484848484844,63.878787878787875,64.9090909090909,65.93939393939394,66.96969696969697,68.0,69.03030303030303,70.06060606060606,71.0909090909091,72.12121212121212,73.15151515151516,74.18181818181819,75.2121212121212,76.24242424242424,77.27272727272727,78.3030303030303,79.33333333333333,80.36363636363636,81.39393939393939,82.42424242424242,83.45454545454545,84.48484848484848,85.51515151515152,86.54545454545455,87.57575757575758,88.60606060606061,89.63636363636364,90.66666666666666,91.69696969696969,92.72727272727272,93.75757575757575,94.78787878787878,95.81818181818181,96.84848484848484,97.87878787878788,98.9090909090909,99.93939393939394,100.96969696969697,102.0],\"y\":[95.0,95.0,95.0,95.0,95.0,95.0,95.0,95.0,95.0,95.0,95.0,95.0,95.0,95.0,95.0,95.0,95.0,95.0,95.0,95.0,95.0,95.0,95.0,95.0,95.0,95.0,95.0,95.0,95.0,95.0,95.0,95.0,95.0,95.0,95.0,95.0,95.0,95.0,95.0,95.0,95.0,95.0,95.0,95.0,95.0,95.0,95.0,95.0,95.0,95.0,95.0,95.0,95.0,95.0,95.0,95.0,95.0,95.0,95.0,95.0,95.0,95.0,95.0,95.0,95.0,95.0,95.0,95.0,95.0,95.0,95.0,95.0,95.0,95.0,95.0,95.0,95.0,95.0,95.0,95.0,95.0,95.0,95.0,95.0,95.0,95.0,95.0,95.0,95.0,95.0,95.0,95.0,95.0,95.0,95.0,95.0,95.0,95.0,95.0,95.0],\"type\":\"scatter\",\"xaxis\":\"x2\",\"yaxis\":\"y2\"},{\"name\":\"Temperature Profile\",\"x\":[0.0,1.0,2.0,3.0,4.0,5.0,6.0,7.0,8.0,9.0,10.0,11.0,12.0,13.0,14.0,15.0,16.0,17.0,18.0,19.0,20.0,21.0,22.0,23.0,24.0,25.0,26.0,27.0,28.0,29.0,30.0,31.0,32.0,33.0,34.0,35.0,36.0,37.0,38.0,39.0,40.0,41.0,42.0,43.0,44.0,45.0,46.0,47.0,48.0,49.0,50.0,51.0,52.0,53.0,54.0,55.0,56.0,57.0,58.0,59.0,60.0,61.0,62.0,63.0,64.0,65.0,66.0,67.0,68.0,69.0,70.0,71.0,72.0,73.0,74.0,75.0,76.0,77.0,78.0,79.0,80.0,81.0,82.0,83.0,84.0,85.0,86.0,87.0,88.0,89.0,90.0,91.0,92.0,93.0,94.0,95.0,96.0,97.0,98.0,99.0,100.0,101.0,102.0],\"y\":[38.01,39.29,41.58,44.39,48.22,52.3,56.13,60.21,63.78,67.35,70.16,73.73,77.05,79.09,81.64,83.68,85.72,87.0,88.79,89.55,91.08,92.1,92.87,93.63,93.89,94.14,95.16,95.42,96.18,96.18,96.18,95.93,96.44,96.69,97.2,97.2,97.2,97.2,96.69,96.44,96.44,95.93,95.42,95.67,95.93,95.93,96.44,96.69,96.69,96.69,96.69,96.69,96.69,96.69,96.69,96.95,96.44,96.69,96.95,97.2,97.2,96.69,96.18,95.93,95.16,97.46,98.23,97.72,97.2,97.2,97.97,97.72,97.97,97.97,97.72,97.2,95.42,95.93,94.91,94.65,95.42,95.67,95.93,95.67,96.44,96.18,96.44,96.44,96.18,96.44,96.69,96.18,96.69,97.2,96.69,96.69,96.44,95.93,95.67,95.93,96.44,96.69,97.46],\"type\":\"scatter\",\"xaxis\":\"x2\",\"yaxis\":\"y2\"}],                        {\"template\":{\"data\":{\"bar\":[{\"error_x\":{\"color\":\"#2a3f5f\"},\"error_y\":{\"color\":\"#2a3f5f\"},\"marker\":{\"line\":{\"color\":\"#E5ECF6\",\"width\":0.5},\"pattern\":{\"fillmode\":\"overlay\",\"size\":10,\"solidity\":0.2}},\"type\":\"bar\"}],\"barpolar\":[{\"marker\":{\"line\":{\"color\":\"#E5ECF6\",\"width\":0.5},\"pattern\":{\"fillmode\":\"overlay\",\"size\":10,\"solidity\":0.2}},\"type\":\"barpolar\"}],\"carpet\":[{\"aaxis\":{\"endlinecolor\":\"#2a3f5f\",\"gridcolor\":\"white\",\"linecolor\":\"white\",\"minorgridcolor\":\"white\",\"startlinecolor\":\"#2a3f5f\"},\"baxis\":{\"endlinecolor\":\"#2a3f5f\",\"gridcolor\":\"white\",\"linecolor\":\"white\",\"minorgridcolor\":\"white\",\"startlinecolor\":\"#2a3f5f\"},\"type\":\"carpet\"}],\"choropleth\":[{\"colorbar\":{\"outlinewidth\":0,\"ticks\":\"\"},\"type\":\"choropleth\"}],\"contour\":[{\"colorbar\":{\"outlinewidth\":0,\"ticks\":\"\"},\"colorscale\":[[0.0,\"#0d0887\"],[0.1111111111111111,\"#46039f\"],[0.2222222222222222,\"#7201a8\"],[0.3333333333333333,\"#9c179e\"],[0.4444444444444444,\"#bd3786\"],[0.5555555555555556,\"#d8576b\"],[0.6666666666666666,\"#ed7953\"],[0.7777777777777778,\"#fb9f3a\"],[0.8888888888888888,\"#fdca26\"],[1.0,\"#f0f921\"]],\"type\":\"contour\"}],\"contourcarpet\":[{\"colorbar\":{\"outlinewidth\":0,\"ticks\":\"\"},\"type\":\"contourcarpet\"}],\"heatmap\":[{\"colorbar\":{\"outlinewidth\":0,\"ticks\":\"\"},\"colorscale\":[[0.0,\"#0d0887\"],[0.1111111111111111,\"#46039f\"],[0.2222222222222222,\"#7201a8\"],[0.3333333333333333,\"#9c179e\"],[0.4444444444444444,\"#bd3786\"],[0.5555555555555556,\"#d8576b\"],[0.6666666666666666,\"#ed7953\"],[0.7777777777777778,\"#fb9f3a\"],[0.8888888888888888,\"#fdca26\"],[1.0,\"#f0f921\"]],\"type\":\"heatmap\"}],\"heatmapgl\":[{\"colorbar\":{\"outlinewidth\":0,\"ticks\":\"\"},\"colorscale\":[[0.0,\"#0d0887\"],[0.1111111111111111,\"#46039f\"],[0.2222222222222222,\"#7201a8\"],[0.3333333333333333,\"#9c179e\"],[0.4444444444444444,\"#bd3786\"],[0.5555555555555556,\"#d8576b\"],[0.6666666666666666,\"#ed7953\"],[0.7777777777777778,\"#fb9f3a\"],[0.8888888888888888,\"#fdca26\"],[1.0,\"#f0f921\"]],\"type\":\"heatmapgl\"}],\"histogram\":[{\"marker\":{\"pattern\":{\"fillmode\":\"overlay\",\"size\":10,\"solidity\":0.2}},\"type\":\"histogram\"}],\"histogram2d\":[{\"colorbar\":{\"outlinewidth\":0,\"ticks\":\"\"},\"colorscale\":[[0.0,\"#0d0887\"],[0.1111111111111111,\"#46039f\"],[0.2222222222222222,\"#7201a8\"],[0.3333333333333333,\"#9c179e\"],[0.4444444444444444,\"#bd3786\"],[0.5555555555555556,\"#d8576b\"],[0.6666666666666666,\"#ed7953\"],[0.7777777777777778,\"#fb9f3a\"],[0.8888888888888888,\"#fdca26\"],[1.0,\"#f0f921\"]],\"type\":\"histogram2d\"}],\"histogram2dcontour\":[{\"colorbar\":{\"outlinewidth\":0,\"ticks\":\"\"},\"colorscale\":[[0.0,\"#0d0887\"],[0.1111111111111111,\"#46039f\"],[0.2222222222222222,\"#7201a8\"],[0.3333333333333333,\"#9c179e\"],[0.4444444444444444,\"#bd3786\"],[0.5555555555555556,\"#d8576b\"],[0.6666666666666666,\"#ed7953\"],[0.7777777777777778,\"#fb9f3a\"],[0.8888888888888888,\"#fdca26\"],[1.0,\"#f0f921\"]],\"type\":\"histogram2dcontour\"}],\"mesh3d\":[{\"colorbar\":{\"outlinewidth\":0,\"ticks\":\"\"},\"type\":\"mesh3d\"}],\"parcoords\":[{\"line\":{\"colorbar\":{\"outlinewidth\":0,\"ticks\":\"\"}},\"type\":\"parcoords\"}],\"pie\":[{\"automargin\":true,\"type\":\"pie\"}],\"scatter\":[{\"marker\":{\"colorbar\":{\"outlinewidth\":0,\"ticks\":\"\"}},\"type\":\"scatter\"}],\"scatter3d\":[{\"line\":{\"colorbar\":{\"outlinewidth\":0,\"ticks\":\"\"}},\"marker\":{\"colorbar\":{\"outlinewidth\":0,\"ticks\":\"\"}},\"type\":\"scatter3d\"}],\"scattercarpet\":[{\"marker\":{\"colorbar\":{\"outlinewidth\":0,\"ticks\":\"\"}},\"type\":\"scattercarpet\"}],\"scattergeo\":[{\"marker\":{\"colorbar\":{\"outlinewidth\":0,\"ticks\":\"\"}},\"type\":\"scattergeo\"}],\"scattergl\":[{\"marker\":{\"colorbar\":{\"outlinewidth\":0,\"ticks\":\"\"}},\"type\":\"scattergl\"}],\"scattermapbox\":[{\"marker\":{\"colorbar\":{\"outlinewidth\":0,\"ticks\":\"\"}},\"type\":\"scattermapbox\"}],\"scatterpolar\":[{\"marker\":{\"colorbar\":{\"outlinewidth\":0,\"ticks\":\"\"}},\"type\":\"scatterpolar\"}],\"scatterpolargl\":[{\"marker\":{\"colorbar\":{\"outlinewidth\":0,\"ticks\":\"\"}},\"type\":\"scatterpolargl\"}],\"scatterternary\":[{\"marker\":{\"colorbar\":{\"outlinewidth\":0,\"ticks\":\"\"}},\"type\":\"scatterternary\"}],\"surface\":[{\"colorbar\":{\"outlinewidth\":0,\"ticks\":\"\"},\"colorscale\":[[0.0,\"#0d0887\"],[0.1111111111111111,\"#46039f\"],[0.2222222222222222,\"#7201a8\"],[0.3333333333333333,\"#9c179e\"],[0.4444444444444444,\"#bd3786\"],[0.5555555555555556,\"#d8576b\"],[0.6666666666666666,\"#ed7953\"],[0.7777777777777778,\"#fb9f3a\"],[0.8888888888888888,\"#fdca26\"],[1.0,\"#f0f921\"]],\"type\":\"surface\"}],\"table\":[{\"cells\":{\"fill\":{\"color\":\"#EBF0F8\"},\"line\":{\"color\":\"white\"}},\"header\":{\"fill\":{\"color\":\"#C8D4E3\"},\"line\":{\"color\":\"white\"}},\"type\":\"table\"}]},\"layout\":{\"annotationdefaults\":{\"arrowcolor\":\"#2a3f5f\",\"arrowhead\":0,\"arrowwidth\":1},\"autotypenumbers\":\"strict\",\"coloraxis\":{\"colorbar\":{\"outlinewidth\":0,\"ticks\":\"\"}},\"colorscale\":{\"diverging\":[[0,\"#8e0152\"],[0.1,\"#c51b7d\"],[0.2,\"#de77ae\"],[0.3,\"#f1b6da\"],[0.4,\"#fde0ef\"],[0.5,\"#f7f7f7\"],[0.6,\"#e6f5d0\"],[0.7,\"#b8e186\"],[0.8,\"#7fbc41\"],[0.9,\"#4d9221\"],[1,\"#276419\"]],\"sequential\":[[0.0,\"#0d0887\"],[0.1111111111111111,\"#46039f\"],[0.2222222222222222,\"#7201a8\"],[0.3333333333333333,\"#9c179e\"],[0.4444444444444444,\"#bd3786\"],[0.5555555555555556,\"#d8576b\"],[0.6666666666666666,\"#ed7953\"],[0.7777777777777778,\"#fb9f3a\"],[0.8888888888888888,\"#fdca26\"],[1.0,\"#f0f921\"]],\"sequentialminus\":[[0.0,\"#0d0887\"],[0.1111111111111111,\"#46039f\"],[0.2222222222222222,\"#7201a8\"],[0.3333333333333333,\"#9c179e\"],[0.4444444444444444,\"#bd3786\"],[0.5555555555555556,\"#d8576b\"],[0.6666666666666666,\"#ed7953\"],[0.7777777777777778,\"#fb9f3a\"],[0.8888888888888888,\"#fdca26\"],[1.0,\"#f0f921\"]]},\"colorway\":[\"#636efa\",\"#EF553B\",\"#00cc96\",\"#ab63fa\",\"#FFA15A\",\"#19d3f3\",\"#FF6692\",\"#B6E880\",\"#FF97FF\",\"#FECB52\"],\"font\":{\"color\":\"#2a3f5f\"},\"geo\":{\"bgcolor\":\"white\",\"lakecolor\":\"white\",\"landcolor\":\"#E5ECF6\",\"showlakes\":true,\"showland\":true,\"subunitcolor\":\"white\"},\"hoverlabel\":{\"align\":\"left\"},\"hovermode\":\"closest\",\"mapbox\":{\"style\":\"light\"},\"paper_bgcolor\":\"white\",\"plot_bgcolor\":\"#E5ECF6\",\"polar\":{\"angularaxis\":{\"gridcolor\":\"white\",\"linecolor\":\"white\",\"ticks\":\"\"},\"bgcolor\":\"#E5ECF6\",\"radialaxis\":{\"gridcolor\":\"white\",\"linecolor\":\"white\",\"ticks\":\"\"}},\"scene\":{\"xaxis\":{\"backgroundcolor\":\"#E5ECF6\",\"gridcolor\":\"white\",\"gridwidth\":2,\"linecolor\":\"white\",\"showbackground\":true,\"ticks\":\"\",\"zerolinecolor\":\"white\"},\"yaxis\":{\"backgroundcolor\":\"#E5ECF6\",\"gridcolor\":\"white\",\"gridwidth\":2,\"linecolor\":\"white\",\"showbackground\":true,\"ticks\":\"\",\"zerolinecolor\":\"white\"},\"zaxis\":{\"backgroundcolor\":\"#E5ECF6\",\"gridcolor\":\"white\",\"gridwidth\":2,\"linecolor\":\"white\",\"showbackground\":true,\"ticks\":\"\",\"zerolinecolor\":\"white\"}},\"shapedefaults\":{\"line\":{\"color\":\"#2a3f5f\"}},\"ternary\":{\"aaxis\":{\"gridcolor\":\"white\",\"linecolor\":\"white\",\"ticks\":\"\"},\"baxis\":{\"gridcolor\":\"white\",\"linecolor\":\"white\",\"ticks\":\"\"},\"bgcolor\":\"#E5ECF6\",\"caxis\":{\"gridcolor\":\"white\",\"linecolor\":\"white\",\"ticks\":\"\"}},\"title\":{\"x\":0.05},\"xaxis\":{\"automargin\":true,\"gridcolor\":\"white\",\"linecolor\":\"white\",\"ticks\":\"\",\"title\":{\"standoff\":15},\"zerolinecolor\":\"white\",\"zerolinewidth\":2},\"yaxis\":{\"automargin\":true,\"gridcolor\":\"white\",\"linecolor\":\"white\",\"ticks\":\"\",\"title\":{\"standoff\":15},\"zerolinecolor\":\"white\",\"zerolinewidth\":2}}},\"xaxis\":{\"anchor\":\"y\",\"domain\":[0.0,1.0],\"title\":{\"text\":\"time (s)\"},\"range\":[0,103]},\"yaxis\":{\"anchor\":\"x\",\"domain\":[0.575,1.0],\"title\":{\"text\":\"PWM of Arduino\"}},\"xaxis2\":{\"anchor\":\"y2\",\"domain\":[0.0,1.0],\"title\":{\"text\":\"time (s)\"},\"range\":[0,103]},\"yaxis2\":{\"anchor\":\"x2\",\"domain\":[0.0,0.425],\"title\":{\"text\":\"Temperature (\\u02daC)\"}},\"height\":1000,\"width\":1000,\"legend\":{\"title\":{\"text\":\"On-Off Control\"}}},                        {\"responsive\": true}                    ).then(function(){\n",
              "                            \n",
              "var gd = document.getElementById('844e81c8-2dc1-48c6-a945-35409aae1223');\n",
              "var x = new MutationObserver(function (mutations, observer) {{\n",
              "        var display = window.getComputedStyle(gd).display;\n",
              "        if (!display || display === 'none') {{\n",
              "            console.log([gd, 'removed!']);\n",
              "            Plotly.purge(gd);\n",
              "            observer.disconnect();\n",
              "        }}\n",
              "}});\n",
              "\n",
              "// Listen for the removal of the full notebook cells\n",
              "var notebookContainer = gd.closest('#notebook-container');\n",
              "if (notebookContainer) {{\n",
              "    x.observe(notebookContainer, {childList: true});\n",
              "}}\n",
              "\n",
              "// Listen for the clearing of the current output cell\n",
              "var outputEl = gd.closest('.output');\n",
              "if (outputEl) {{\n",
              "    x.observe(outputEl, {childList: true});\n",
              "}}\n",
              "\n",
              "                        })                };                            </script>        </div>\n",
              "</body>\n",
              "</html>"
            ]
          },
          "metadata": {}
        }
      ]
    },
    {
      "cell_type": "code",
      "source": [
        "regex = re.compile(\"^([0-9.]+)\\s[,]\\s([0-9.]+)\\s[,]\\s([0-9.]+)\\s[,]\\s([0-9.]+)\\s[,]\\s([0-9.]+)\", re.MULTILINE)\n",
        "datatext = req.get(\"https://raw.githubusercontent.com/salarbalou/Photothermal_Study_CQDs/main/6-1-22-PIDkp%3D15-ki%3D3.3-Laser-10x%20CQD.txt\").text\n",
        "datalist = regex.findall(datatext)\n",
        "datat = []\n",
        "dataT = []\n",
        "dataa = []\n",
        "datab = []\n",
        "datac = []\n",
        "for i in range (98):\n",
        "   datat.append(float(datalist[i][0]))\n",
        "for j in range (98):\n",
        "   dataT.append(float(datalist[j][1]))\n",
        "for k in range (98):\n",
        "   dataa.append(float(datalist[k][2]))\n",
        "for m in range (98):\n",
        "   datab.append(float(datalist[m][3]))\n",
        "t = np.array(datat)\n",
        "T = np.array(dataT)\n",
        "a = np.array(dataa)\n",
        "b = np.array(datab)\n",
        "\n",
        "m, b = np.polyfit(t[0:19], T[0:19], deg = 1)\n",
        "\n",
        "fig = make_subplots(rows= 2, cols= 1)\n",
        "fig.add_trace(go.Scatter(x = t, y = a, name = 'PWM Profile'), row = 1, col = 1)\n",
        "fig.add_trace(go.Scatter(x = np.linspace(0, t[-1], 100), y = np.ones(100)*95, name = 'Setpoint'), row = 2, col = 1)\n",
        "fig.add_trace(go.Scatter(x = t, y = T, name = 'Temperature Profile'), row = 2, col = 1)\n",
        "fig.add_trace(go.Scatter(x = np.linspace(0, 19, 19), y = m*np.linspace(0, 19, 19)+b), row = 2, col = 1)\n",
        "fig.update_xaxes(title = 'time (s)', range = [0, 103])\n",
        "fig.update_yaxes(title = 'PWM of Arduino', row= 1, col = 1)\n",
        "fig.update_yaxes(title = 'Temperature (˚C)', row= 2, col = 1)\n",
        "fig.update_layout(height = 1000, width = 1000, legend = dict(title = f'kp = 15, ki = 3.3'))"
      ],
      "metadata": {
        "colab": {
          "base_uri": "https://localhost:8080/",
          "height": 1000
        },
        "id": "hw8itQYxIq93",
        "outputId": "6e43f145-44d8-40fd-e445-ca161e86ccb7"
      },
      "execution_count": 5,
      "outputs": [
        {
          "output_type": "display_data",
          "data": {
            "text/html": [
              "<html>\n",
              "<head><meta charset=\"utf-8\" /></head>\n",
              "<body>\n",
              "    <div>            <script src=\"https://cdnjs.cloudflare.com/ajax/libs/mathjax/2.7.5/MathJax.js?config=TeX-AMS-MML_SVG\"></script><script type=\"text/javascript\">if (window.MathJax) {MathJax.Hub.Config({SVG: {font: \"STIX-Web\"}});}</script>                <script type=\"text/javascript\">window.PlotlyConfig = {MathJaxConfig: 'local'};</script>\n",
              "        <script src=\"https://cdn.plot.ly/plotly-2.8.3.min.js\"></script>                <div id=\"1dedf9dd-11c6-400d-9d0e-18463ac3a4e7\" class=\"plotly-graph-div\" style=\"height:1000px; width:1000px;\"></div>            <script type=\"text/javascript\">                                    window.PLOTLYENV=window.PLOTLYENV || {};                                    if (document.getElementById(\"1dedf9dd-11c6-400d-9d0e-18463ac3a4e7\")) {                    Plotly.newPlot(                        \"1dedf9dd-11c6-400d-9d0e-18463ac3a4e7\",                        [{\"name\":\"PWM Profile\",\"x\":[0.0,1.0,2.0,3.0,4.0,5.0,6.0,7.0,8.0,9.0,10.0,11.0,12.0,13.0,14.0,15.0,16.0,17.0,18.0,19.0,20.0,21.0,22.0,23.0,24.0,25.0,26.0,27.0,28.0,29.0,30.0,31.0,32.0,33.0,34.0,35.0,36.0,37.0,38.0,39.0,40.0,41.0,42.0,43.0,44.0,45.0,46.0,47.0,48.0,49.0,50.0,51.0,52.0,53.0,54.0,55.0,56.0,57.0,58.0,59.0,60.0,61.0,62.0,63.0,64.0,65.0,66.0,67.0,68.0,69.0,70.0,71.0,72.0,73.0,74.0,75.0,76.0,77.0,78.0,79.0,80.0,81.0,82.0,83.0,84.0,85.0,86.0,87.0,88.0,89.0,90.0,91.0,92.0,93.0,94.0,95.0,96.0,97.0],\"y\":[90.0,90.0,90.0,90.0,90.0,90.0,90.0,90.0,90.0,90.0,90.0,90.0,90.0,90.0,90.0,90.0,90.0,90.0,90.0,87.0,67.79,49.87,38.77,59.5,89.96,90.0,90.0,83.98,56.27,46.85,55.26,66.2,89.01,90.0,89.53,82.18,59.14,36.55,38.61,56.37,87.67,90.0,90.0,90.0,66.22,44.47,42.71,60.46,77.76,90.0,90.0,90.0,76.28,51.56,50.63,45.88,59.81,77.1,90.0,90.0,74.94,55.73,42.48,50.9,75.84,90.0,87.01,66.49,41.76,40.84,64.11,69.08,79.56,90.0,77.56,64.69,35.3,28.86,50.44,81.74,90.0,90.0,85.48,59.45,37.71,40.61,59.21,82.01,90.0,90.0,80.24,57.19,34.61,46.01,65.45,90.0,90.0,86.64],\"type\":\"scatter\",\"xaxis\":\"x\",\"yaxis\":\"y\"},{\"name\":\"Setpoint\",\"x\":[0.0,0.9797979797979798,1.9595959595959596,2.9393939393939394,3.919191919191919,4.898989898989899,5.878787878787879,6.858585858585858,7.838383838383838,8.818181818181818,9.797979797979798,10.777777777777777,11.757575757575758,12.737373737373737,13.717171717171716,14.696969696969697,15.676767676767676,16.656565656565657,17.636363636363637,18.616161616161616,19.595959595959595,20.575757575757574,21.555555555555554,22.535353535353536,23.515151515151516,24.494949494949495,25.474747474747474,26.454545454545453,27.434343434343432,28.414141414141415,29.393939393939394,30.373737373737374,31.353535353535353,32.333333333333336,33.313131313131315,34.292929292929294,35.27272727272727,36.25252525252525,37.23232323232323,38.21212121212121,39.19191919191919,40.17171717171717,41.15151515151515,42.13131313131313,43.11111111111111,44.09090909090909,45.07070707070707,46.05050505050505,47.03030303030303,48.01010101010101,48.98989898989899,49.96969696969697,50.94949494949495,51.92929292929293,52.90909090909091,53.888888888888886,54.868686868686865,55.848484848484844,56.82828282828283,57.80808080808081,58.78787878787879,59.76767676767677,60.74747474747475,61.72727272727273,62.707070707070706,63.686868686868685,64.66666666666667,65.64646464646465,66.62626262626263,67.60606060606061,68.58585858585859,69.56565656565657,70.54545454545455,71.52525252525253,72.5050505050505,73.48484848484848,74.46464646464646,75.44444444444444,76.42424242424242,77.4040404040404,78.38383838383838,79.36363636363636,80.34343434343434,81.32323232323232,82.3030303030303,83.28282828282828,84.26262626262626,85.24242424242424,86.22222222222221,87.2020202020202,88.18181818181819,89.16161616161617,90.14141414141415,91.12121212121212,92.1010101010101,93.08080808080808,94.06060606060606,95.04040404040404,96.02020202020202,97.0],\"y\":[95.0,95.0,95.0,95.0,95.0,95.0,95.0,95.0,95.0,95.0,95.0,95.0,95.0,95.0,95.0,95.0,95.0,95.0,95.0,95.0,95.0,95.0,95.0,95.0,95.0,95.0,95.0,95.0,95.0,95.0,95.0,95.0,95.0,95.0,95.0,95.0,95.0,95.0,95.0,95.0,95.0,95.0,95.0,95.0,95.0,95.0,95.0,95.0,95.0,95.0,95.0,95.0,95.0,95.0,95.0,95.0,95.0,95.0,95.0,95.0,95.0,95.0,95.0,95.0,95.0,95.0,95.0,95.0,95.0,95.0,95.0,95.0,95.0,95.0,95.0,95.0,95.0,95.0,95.0,95.0,95.0,95.0,95.0,95.0,95.0,95.0,95.0,95.0,95.0,95.0,95.0,95.0,95.0,95.0,95.0,95.0,95.0,95.0,95.0,95.0],\"type\":\"scatter\",\"xaxis\":\"x2\",\"yaxis\":\"y2\"},{\"name\":\"Temperature Profile\",\"x\":[0.0,1.0,2.0,3.0,4.0,5.0,6.0,7.0,8.0,9.0,10.0,11.0,12.0,13.0,14.0,15.0,16.0,17.0,18.0,19.0,20.0,21.0,22.0,23.0,24.0,25.0,26.0,27.0,28.0,29.0,30.0,31.0,32.0,33.0,34.0,35.0,36.0,37.0,38.0,39.0,40.0,41.0,42.0,43.0,44.0,45.0,46.0,47.0,48.0,49.0,50.0,51.0,52.0,53.0,54.0,55.0,56.0,57.0,58.0,59.0,60.0,61.0,62.0,63.0,64.0,65.0,66.0,67.0,68.0,69.0,70.0,71.0,72.0,73.0,74.0,75.0,76.0,77.0,78.0,79.0,80.0,81.0,82.0,83.0,84.0,85.0,86.0,87.0,88.0,89.0,90.0,91.0,92.0,93.0,94.0,95.0,96.0,97.0],\"y\":[24.74,41.07,46.69,51.53,55.62,60.97,65.31,68.63,72.46,76.28,79.34,82.15,84.45,86.74,89.04,90.32,92.61,93.89,95.16,96.18,96.95,97.2,95.67,93.89,93.63,93.63,94.91,96.44,96.69,95.93,95.16,93.89,93.12,94.4,94.91,96.18,97.2,96.69,95.42,93.63,92.61,93.12,94.4,95.93,96.95,96.69,95.42,94.4,93.38,92.87,94.14,95.42,96.69,96.44,96.44,95.42,94.4,93.38,93.63,95.16,96.18,96.69,95.93,94.4,93.63,94.14,95.42,96.69,96.44,94.91,94.65,94.14,93.63,94.65,95.42,96.95,96.95,95.42,93.63,92.87,93.12,94.4,95.93,96.95,96.44,95.16,93.89,92.61,93.38,94.91,96.18,97.2,96.18,94.91,93.38,93.12,94.4,95.16],\"type\":\"scatter\",\"xaxis\":\"x2\",\"yaxis\":\"y2\"},{\"x\":[0.0,1.0555555555555556,2.111111111111111,3.166666666666667,4.222222222222222,5.277777777777778,6.333333333333334,7.388888888888889,8.444444444444445,9.5,10.555555555555555,11.61111111111111,12.666666666666668,13.722222222222223,14.777777777777779,15.833333333333334,16.88888888888889,17.944444444444446,19.0],\"y\":[40.28357894736842,43.93550487329434,47.58743079922027,51.239356725146195,54.891282651072125,58.54320857699805,62.19513450292398,65.8470604288499,69.49898635477582,73.15091228070176,76.80283820662768,80.4547641325536,84.10669005847953,87.75861598440545,91.41054191033139,95.06246783625731,98.71439376218324,102.36631968810917,106.0182456140351],\"type\":\"scatter\",\"xaxis\":\"x2\",\"yaxis\":\"y2\"}],                        {\"template\":{\"data\":{\"bar\":[{\"error_x\":{\"color\":\"#2a3f5f\"},\"error_y\":{\"color\":\"#2a3f5f\"},\"marker\":{\"line\":{\"color\":\"#E5ECF6\",\"width\":0.5},\"pattern\":{\"fillmode\":\"overlay\",\"size\":10,\"solidity\":0.2}},\"type\":\"bar\"}],\"barpolar\":[{\"marker\":{\"line\":{\"color\":\"#E5ECF6\",\"width\":0.5},\"pattern\":{\"fillmode\":\"overlay\",\"size\":10,\"solidity\":0.2}},\"type\":\"barpolar\"}],\"carpet\":[{\"aaxis\":{\"endlinecolor\":\"#2a3f5f\",\"gridcolor\":\"white\",\"linecolor\":\"white\",\"minorgridcolor\":\"white\",\"startlinecolor\":\"#2a3f5f\"},\"baxis\":{\"endlinecolor\":\"#2a3f5f\",\"gridcolor\":\"white\",\"linecolor\":\"white\",\"minorgridcolor\":\"white\",\"startlinecolor\":\"#2a3f5f\"},\"type\":\"carpet\"}],\"choropleth\":[{\"colorbar\":{\"outlinewidth\":0,\"ticks\":\"\"},\"type\":\"choropleth\"}],\"contour\":[{\"colorbar\":{\"outlinewidth\":0,\"ticks\":\"\"},\"colorscale\":[[0.0,\"#0d0887\"],[0.1111111111111111,\"#46039f\"],[0.2222222222222222,\"#7201a8\"],[0.3333333333333333,\"#9c179e\"],[0.4444444444444444,\"#bd3786\"],[0.5555555555555556,\"#d8576b\"],[0.6666666666666666,\"#ed7953\"],[0.7777777777777778,\"#fb9f3a\"],[0.8888888888888888,\"#fdca26\"],[1.0,\"#f0f921\"]],\"type\":\"contour\"}],\"contourcarpet\":[{\"colorbar\":{\"outlinewidth\":0,\"ticks\":\"\"},\"type\":\"contourcarpet\"}],\"heatmap\":[{\"colorbar\":{\"outlinewidth\":0,\"ticks\":\"\"},\"colorscale\":[[0.0,\"#0d0887\"],[0.1111111111111111,\"#46039f\"],[0.2222222222222222,\"#7201a8\"],[0.3333333333333333,\"#9c179e\"],[0.4444444444444444,\"#bd3786\"],[0.5555555555555556,\"#d8576b\"],[0.6666666666666666,\"#ed7953\"],[0.7777777777777778,\"#fb9f3a\"],[0.8888888888888888,\"#fdca26\"],[1.0,\"#f0f921\"]],\"type\":\"heatmap\"}],\"heatmapgl\":[{\"colorbar\":{\"outlinewidth\":0,\"ticks\":\"\"},\"colorscale\":[[0.0,\"#0d0887\"],[0.1111111111111111,\"#46039f\"],[0.2222222222222222,\"#7201a8\"],[0.3333333333333333,\"#9c179e\"],[0.4444444444444444,\"#bd3786\"],[0.5555555555555556,\"#d8576b\"],[0.6666666666666666,\"#ed7953\"],[0.7777777777777778,\"#fb9f3a\"],[0.8888888888888888,\"#fdca26\"],[1.0,\"#f0f921\"]],\"type\":\"heatmapgl\"}],\"histogram\":[{\"marker\":{\"pattern\":{\"fillmode\":\"overlay\",\"size\":10,\"solidity\":0.2}},\"type\":\"histogram\"}],\"histogram2d\":[{\"colorbar\":{\"outlinewidth\":0,\"ticks\":\"\"},\"colorscale\":[[0.0,\"#0d0887\"],[0.1111111111111111,\"#46039f\"],[0.2222222222222222,\"#7201a8\"],[0.3333333333333333,\"#9c179e\"],[0.4444444444444444,\"#bd3786\"],[0.5555555555555556,\"#d8576b\"],[0.6666666666666666,\"#ed7953\"],[0.7777777777777778,\"#fb9f3a\"],[0.8888888888888888,\"#fdca26\"],[1.0,\"#f0f921\"]],\"type\":\"histogram2d\"}],\"histogram2dcontour\":[{\"colorbar\":{\"outlinewidth\":0,\"ticks\":\"\"},\"colorscale\":[[0.0,\"#0d0887\"],[0.1111111111111111,\"#46039f\"],[0.2222222222222222,\"#7201a8\"],[0.3333333333333333,\"#9c179e\"],[0.4444444444444444,\"#bd3786\"],[0.5555555555555556,\"#d8576b\"],[0.6666666666666666,\"#ed7953\"],[0.7777777777777778,\"#fb9f3a\"],[0.8888888888888888,\"#fdca26\"],[1.0,\"#f0f921\"]],\"type\":\"histogram2dcontour\"}],\"mesh3d\":[{\"colorbar\":{\"outlinewidth\":0,\"ticks\":\"\"},\"type\":\"mesh3d\"}],\"parcoords\":[{\"line\":{\"colorbar\":{\"outlinewidth\":0,\"ticks\":\"\"}},\"type\":\"parcoords\"}],\"pie\":[{\"automargin\":true,\"type\":\"pie\"}],\"scatter\":[{\"marker\":{\"colorbar\":{\"outlinewidth\":0,\"ticks\":\"\"}},\"type\":\"scatter\"}],\"scatter3d\":[{\"line\":{\"colorbar\":{\"outlinewidth\":0,\"ticks\":\"\"}},\"marker\":{\"colorbar\":{\"outlinewidth\":0,\"ticks\":\"\"}},\"type\":\"scatter3d\"}],\"scattercarpet\":[{\"marker\":{\"colorbar\":{\"outlinewidth\":0,\"ticks\":\"\"}},\"type\":\"scattercarpet\"}],\"scattergeo\":[{\"marker\":{\"colorbar\":{\"outlinewidth\":0,\"ticks\":\"\"}},\"type\":\"scattergeo\"}],\"scattergl\":[{\"marker\":{\"colorbar\":{\"outlinewidth\":0,\"ticks\":\"\"}},\"type\":\"scattergl\"}],\"scattermapbox\":[{\"marker\":{\"colorbar\":{\"outlinewidth\":0,\"ticks\":\"\"}},\"type\":\"scattermapbox\"}],\"scatterpolar\":[{\"marker\":{\"colorbar\":{\"outlinewidth\":0,\"ticks\":\"\"}},\"type\":\"scatterpolar\"}],\"scatterpolargl\":[{\"marker\":{\"colorbar\":{\"outlinewidth\":0,\"ticks\":\"\"}},\"type\":\"scatterpolargl\"}],\"scatterternary\":[{\"marker\":{\"colorbar\":{\"outlinewidth\":0,\"ticks\":\"\"}},\"type\":\"scatterternary\"}],\"surface\":[{\"colorbar\":{\"outlinewidth\":0,\"ticks\":\"\"},\"colorscale\":[[0.0,\"#0d0887\"],[0.1111111111111111,\"#46039f\"],[0.2222222222222222,\"#7201a8\"],[0.3333333333333333,\"#9c179e\"],[0.4444444444444444,\"#bd3786\"],[0.5555555555555556,\"#d8576b\"],[0.6666666666666666,\"#ed7953\"],[0.7777777777777778,\"#fb9f3a\"],[0.8888888888888888,\"#fdca26\"],[1.0,\"#f0f921\"]],\"type\":\"surface\"}],\"table\":[{\"cells\":{\"fill\":{\"color\":\"#EBF0F8\"},\"line\":{\"color\":\"white\"}},\"header\":{\"fill\":{\"color\":\"#C8D4E3\"},\"line\":{\"color\":\"white\"}},\"type\":\"table\"}]},\"layout\":{\"annotationdefaults\":{\"arrowcolor\":\"#2a3f5f\",\"arrowhead\":0,\"arrowwidth\":1},\"autotypenumbers\":\"strict\",\"coloraxis\":{\"colorbar\":{\"outlinewidth\":0,\"ticks\":\"\"}},\"colorscale\":{\"diverging\":[[0,\"#8e0152\"],[0.1,\"#c51b7d\"],[0.2,\"#de77ae\"],[0.3,\"#f1b6da\"],[0.4,\"#fde0ef\"],[0.5,\"#f7f7f7\"],[0.6,\"#e6f5d0\"],[0.7,\"#b8e186\"],[0.8,\"#7fbc41\"],[0.9,\"#4d9221\"],[1,\"#276419\"]],\"sequential\":[[0.0,\"#0d0887\"],[0.1111111111111111,\"#46039f\"],[0.2222222222222222,\"#7201a8\"],[0.3333333333333333,\"#9c179e\"],[0.4444444444444444,\"#bd3786\"],[0.5555555555555556,\"#d8576b\"],[0.6666666666666666,\"#ed7953\"],[0.7777777777777778,\"#fb9f3a\"],[0.8888888888888888,\"#fdca26\"],[1.0,\"#f0f921\"]],\"sequentialminus\":[[0.0,\"#0d0887\"],[0.1111111111111111,\"#46039f\"],[0.2222222222222222,\"#7201a8\"],[0.3333333333333333,\"#9c179e\"],[0.4444444444444444,\"#bd3786\"],[0.5555555555555556,\"#d8576b\"],[0.6666666666666666,\"#ed7953\"],[0.7777777777777778,\"#fb9f3a\"],[0.8888888888888888,\"#fdca26\"],[1.0,\"#f0f921\"]]},\"colorway\":[\"#636efa\",\"#EF553B\",\"#00cc96\",\"#ab63fa\",\"#FFA15A\",\"#19d3f3\",\"#FF6692\",\"#B6E880\",\"#FF97FF\",\"#FECB52\"],\"font\":{\"color\":\"#2a3f5f\"},\"geo\":{\"bgcolor\":\"white\",\"lakecolor\":\"white\",\"landcolor\":\"#E5ECF6\",\"showlakes\":true,\"showland\":true,\"subunitcolor\":\"white\"},\"hoverlabel\":{\"align\":\"left\"},\"hovermode\":\"closest\",\"mapbox\":{\"style\":\"light\"},\"paper_bgcolor\":\"white\",\"plot_bgcolor\":\"#E5ECF6\",\"polar\":{\"angularaxis\":{\"gridcolor\":\"white\",\"linecolor\":\"white\",\"ticks\":\"\"},\"bgcolor\":\"#E5ECF6\",\"radialaxis\":{\"gridcolor\":\"white\",\"linecolor\":\"white\",\"ticks\":\"\"}},\"scene\":{\"xaxis\":{\"backgroundcolor\":\"#E5ECF6\",\"gridcolor\":\"white\",\"gridwidth\":2,\"linecolor\":\"white\",\"showbackground\":true,\"ticks\":\"\",\"zerolinecolor\":\"white\"},\"yaxis\":{\"backgroundcolor\":\"#E5ECF6\",\"gridcolor\":\"white\",\"gridwidth\":2,\"linecolor\":\"white\",\"showbackground\":true,\"ticks\":\"\",\"zerolinecolor\":\"white\"},\"zaxis\":{\"backgroundcolor\":\"#E5ECF6\",\"gridcolor\":\"white\",\"gridwidth\":2,\"linecolor\":\"white\",\"showbackground\":true,\"ticks\":\"\",\"zerolinecolor\":\"white\"}},\"shapedefaults\":{\"line\":{\"color\":\"#2a3f5f\"}},\"ternary\":{\"aaxis\":{\"gridcolor\":\"white\",\"linecolor\":\"white\",\"ticks\":\"\"},\"baxis\":{\"gridcolor\":\"white\",\"linecolor\":\"white\",\"ticks\":\"\"},\"bgcolor\":\"#E5ECF6\",\"caxis\":{\"gridcolor\":\"white\",\"linecolor\":\"white\",\"ticks\":\"\"}},\"title\":{\"x\":0.05},\"xaxis\":{\"automargin\":true,\"gridcolor\":\"white\",\"linecolor\":\"white\",\"ticks\":\"\",\"title\":{\"standoff\":15},\"zerolinecolor\":\"white\",\"zerolinewidth\":2},\"yaxis\":{\"automargin\":true,\"gridcolor\":\"white\",\"linecolor\":\"white\",\"ticks\":\"\",\"title\":{\"standoff\":15},\"zerolinecolor\":\"white\",\"zerolinewidth\":2}}},\"xaxis\":{\"anchor\":\"y\",\"domain\":[0.0,1.0],\"title\":{\"text\":\"time (s)\"},\"range\":[0,103]},\"yaxis\":{\"anchor\":\"x\",\"domain\":[0.575,1.0],\"title\":{\"text\":\"PWM of Arduino\"}},\"xaxis2\":{\"anchor\":\"y2\",\"domain\":[0.0,1.0],\"title\":{\"text\":\"time (s)\"},\"range\":[0,103]},\"yaxis2\":{\"anchor\":\"x2\",\"domain\":[0.0,0.425],\"title\":{\"text\":\"Temperature (\\u02daC)\"}},\"height\":1000,\"width\":1000,\"legend\":{\"title\":{\"text\":\"kp = 15, ki = 3.3\"}}},                        {\"responsive\": true}                    ).then(function(){\n",
              "                            \n",
              "var gd = document.getElementById('1dedf9dd-11c6-400d-9d0e-18463ac3a4e7');\n",
              "var x = new MutationObserver(function (mutations, observer) {{\n",
              "        var display = window.getComputedStyle(gd).display;\n",
              "        if (!display || display === 'none') {{\n",
              "            console.log([gd, 'removed!']);\n",
              "            Plotly.purge(gd);\n",
              "            observer.disconnect();\n",
              "        }}\n",
              "}});\n",
              "\n",
              "// Listen for the removal of the full notebook cells\n",
              "var notebookContainer = gd.closest('#notebook-container');\n",
              "if (notebookContainer) {{\n",
              "    x.observe(notebookContainer, {childList: true});\n",
              "}}\n",
              "\n",
              "// Listen for the clearing of the current output cell\n",
              "var outputEl = gd.closest('.output');\n",
              "if (outputEl) {{\n",
              "    x.observe(outputEl, {childList: true});\n",
              "}}\n",
              "\n",
              "                        })                };                            </script>        </div>\n",
              "</body>\n",
              "</html>"
            ]
          },
          "metadata": {}
        }
      ]
    },
    {
      "cell_type": "code",
      "source": [
        "regex = re.compile(\"^([0-9.]+)\\s[,]\\s([0-9.]+)\\s[,]\\s([0-9.]+)\\s[,]\\s([0-9.]+)\\s[,]\\s([0-9.]+)\", re.MULTILINE)\n",
        "datatext = req.get(\"https://raw.githubusercontent.com/salarbalou/Photothermal_Study_CQDs/main/6-1-22-PIDkp%3D6-ki%3D0.5-Laser-10x%20CQD.txt\").text\n",
        "datalist = regex.findall(datatext)\n",
        "datat = []\n",
        "dataT = []\n",
        "dataa = []\n",
        "datab = []\n",
        "datac = []\n",
        "for i in range (108):\n",
        "   datat.append(float(datalist[i][0]))\n",
        "for j in range (108):\n",
        "   dataT.append(float(datalist[j][1]))\n",
        "for k in range (108):\n",
        "   dataa.append(float(datalist[k][2]))\n",
        "for m in range (108):\n",
        "   datab.append(float(datalist[m][3]))\n",
        "t = np.array(datat)\n",
        "T = np.array(dataT)\n",
        "a = np.array(dataa)\n",
        "b = np.array(datab)\n",
        "\n",
        "T = np.delete(T, np.where(T==14.28)[0])\n",
        "t = np.delete(t, np.where(T==14.28)[0])\n",
        "\n",
        "fig = make_subplots(rows= 2, cols= 1)\n",
        "fig.add_trace(go.Scatter(x = t, y = a, name = 'PWM Profile'), row = 1, col = 1)\n",
        "fig.add_trace(go.Scatter(x = np.linspace(0, t[-1], 100), y = np.ones(100)*95, name = 'Setpoint'), row = 2, col = 1)\n",
        "fig.add_trace(go.Scatter(x = t, y = T, name = 'Temperature Profile'), row = 2, col = 1)\n",
        "fig.update_xaxes(title = 'time (s)', range = [0, 50])\n",
        "fig.update_yaxes(title = 'PWM of Arduino', row= 1, col = 1)\n",
        "fig.update_yaxes(title = 'Temperature (˚C)', row= 2, col = 1)\n",
        "fig.update_layout(height = 1000, width = 1000, legend = dict(title = f'kp = 6, ki = 0.5'))"
      ],
      "metadata": {
        "colab": {
          "base_uri": "https://localhost:8080/",
          "height": 1000
        },
        "id": "7cf5Lnw7JKK8",
        "outputId": "8db82c30-fb5a-401b-a4b8-eac38af59a87"
      },
      "execution_count": 6,
      "outputs": [
        {
          "output_type": "display_data",
          "data": {
            "text/html": [
              "<html>\n",
              "<head><meta charset=\"utf-8\" /></head>\n",
              "<body>\n",
              "    <div>            <script src=\"https://cdnjs.cloudflare.com/ajax/libs/mathjax/2.7.5/MathJax.js?config=TeX-AMS-MML_SVG\"></script><script type=\"text/javascript\">if (window.MathJax) {MathJax.Hub.Config({SVG: {font: \"STIX-Web\"}});}</script>                <script type=\"text/javascript\">window.PlotlyConfig = {MathJaxConfig: 'local'};</script>\n",
              "        <script src=\"https://cdn.plot.ly/plotly-2.8.3.min.js\"></script>                <div id=\"f1a914af-bf58-40dd-8318-710daac08851\" class=\"plotly-graph-div\" style=\"height:1000px; width:1000px;\"></div>            <script type=\"text/javascript\">                                    window.PLOTLYENV=window.PLOTLYENV || {};                                    if (document.getElementById(\"f1a914af-bf58-40dd-8318-710daac08851\")) {                    Plotly.newPlot(                        \"f1a914af-bf58-40dd-8318-710daac08851\",                        [{\"name\":\"PWM Profile\",\"x\":[0.0,1.0,2.0,3.0,4.0,5.0,6.0,7.0,8.0,9.0,10.0,11.0,12.0,13.0,14.0,15.0,16.0,17.0,18.0,19.0,20.0,21.0,22.0,23.0,24.0,25.0,26.0,27.0,28.0,29.0,30.0,31.0,32.0,33.0,34.0,35.0,36.0,37.0,38.0,39.0,40.0,41.0,42.0,43.0,44.0,45.0,46.0,47.0,48.0,49.0,50.0,51.0,52.0,53.0,54.0,55.0,56.0,57.0,58.0,59.0,60.0,61.0,62.0,63.0,64.0,65.0,66.0,67.0,68.0,69.0,70.0,71.0,72.0,73.0,74.0,75.0,76.0,77.0,78.0,79.0,80.0,81.0,82.0,83.0,84.0,85.0,86.0,87.0,88.0,89.0,90.0,91.0,92.0,93.0,94.0,95.0,96.0,97.0,98.0,99.0,100.0,101.0,102.0,103.0,104.0,105.0,106.0,107.0],\"y\":[90.0,90.0,90.0,90.0,90.0,90.0,90.0,90.0,90.0,90.0,90.0,90.0,90.0,90.0,90.0,90.0,90.0,90.0,90.0,90.0,90.0,90.0,90.0,90.0,90.0,90.0,90.0,90.0,90.0,90.0,90.0,90.0,87.28,87.07,88.52,90.0,85.16,86.48,86.28,90.0,89.56,87.94,86.2,89.31,90.0,90.0,89.7,89.75,90.0,89.97,90.0,90.0,90.0,90.0,90.0,90.0,90.0,90.0,90.0,90.0,90.0,90.0,90.0,90.0,90.0,90.0,90.0,90.0,90.0,90.0,90.0,90.0,90.0,90.0,90.0,90.0,85.62,75.33,70.91,66.24,66.28,68.11,75.18,74.58,73.99,71.74,67.7,71.7,72.77,73.96,71.97,69.85,70.91,68.79,64.88,67.35,73.39,73.31,66.59,66.0,68.73,70.05,69.84,63.0,60.62,66.4,69.38,67.64],\"type\":\"scatter\",\"xaxis\":\"x\",\"yaxis\":\"y\"},{\"name\":\"Setpoint\",\"x\":[0.0,1.0808080808080809,2.1616161616161618,3.2424242424242427,4.3232323232323235,5.404040404040405,6.484848484848485,7.565656565656566,8.646464646464647,9.727272727272728,10.80808080808081,11.88888888888889,12.96969696969697,14.050505050505052,15.131313131313131,16.212121212121215,17.292929292929294,18.373737373737374,19.454545454545457,20.535353535353536,21.61616161616162,22.6969696969697,23.77777777777778,24.85858585858586,25.93939393939394,27.02020202020202,28.101010101010104,29.181818181818183,30.262626262626263,31.343434343434346,32.42424242424243,33.505050505050505,34.58585858585859,35.66666666666667,36.74747474747475,37.82828282828283,38.909090909090914,39.98989898989899,41.07070707070707,42.151515151515156,43.23232323232324,44.313131313131315,45.3939393939394,46.47474747474748,47.55555555555556,48.63636363636364,49.71717171717172,50.7979797979798,51.87878787878788,52.959595959595966,54.04040404040404,55.121212121212125,56.20202020202021,57.282828282828284,58.36363636363637,59.44444444444445,60.525252525252526,61.60606060606061,62.68686868686869,63.767676767676775,64.84848484848486,65.92929292929293,67.01010101010101,68.0909090909091,69.17171717171718,70.25252525252526,71.33333333333334,72.41414141414143,73.4949494949495,74.57575757575758,75.65656565656566,76.73737373737374,77.81818181818183,78.89898989898991,79.97979797979798,81.06060606060606,82.14141414141415,83.22222222222223,84.30303030303031,85.3838383838384,86.46464646464648,87.54545454545455,88.62626262626263,89.70707070707071,90.7878787878788,91.86868686868688,92.94949494949496,94.03030303030303,95.11111111111111,96.1919191919192,97.27272727272728,98.35353535353536,99.43434343434345,100.51515151515152,101.5959595959596,102.67676767676768,103.75757575757576,104.83838383838385,105.91919191919193,107.0],\"y\":[95.0,95.0,95.0,95.0,95.0,95.0,95.0,95.0,95.0,95.0,95.0,95.0,95.0,95.0,95.0,95.0,95.0,95.0,95.0,95.0,95.0,95.0,95.0,95.0,95.0,95.0,95.0,95.0,95.0,95.0,95.0,95.0,95.0,95.0,95.0,95.0,95.0,95.0,95.0,95.0,95.0,95.0,95.0,95.0,95.0,95.0,95.0,95.0,95.0,95.0,95.0,95.0,95.0,95.0,95.0,95.0,95.0,95.0,95.0,95.0,95.0,95.0,95.0,95.0,95.0,95.0,95.0,95.0,95.0,95.0,95.0,95.0,95.0,95.0,95.0,95.0,95.0,95.0,95.0,95.0,95.0,95.0,95.0,95.0,95.0,95.0,95.0,95.0,95.0,95.0,95.0,95.0,95.0,95.0,95.0,95.0,95.0,95.0,95.0,95.0],\"type\":\"scatter\",\"xaxis\":\"x2\",\"yaxis\":\"y2\"},{\"name\":\"Temperature Profile\",\"x\":[0.0,1.0,2.0,3.0,4.0,5.0,6.0,7.0,8.0,9.0,10.0,11.0,12.0,13.0,14.0,15.0,16.0,17.0,18.0,19.0,20.0,21.0,22.0,23.0,24.0,25.0,26.0,27.0,28.0,29.0,30.0,31.0,32.0,33.0,34.0,35.0,36.0,37.0,38.0,39.0,40.0,41.0,42.0,43.0,44.0,45.0,46.0,47.0,48.0,49.0,50.0,51.0,52.0,53.0,54.0,55.0,56.0,57.0,58.0,59.0,60.0,61.0,62.0,63.0,64.0,65.0,66.0,67.0,68.0,69.0,70.0,71.0,72.0,73.0,74.0,75.0,76.0,77.0,78.0,79.0,80.0,81.0,82.0,83.0,84.0,85.0,86.0,87.0,88.0,89.0,90.0,91.0,92.0,93.0,94.0,95.0,96.0,97.0,98.0,99.0,100.0,101.0,102.0,103.0,104.0,105.0,106.0,107.0],\"y\":[52.04,51.02,52.3,55.36,59.44,63.53,67.61,70.92,74.5,78.32,81.13,83.43,85.21,87.51,89.04,90.06,90.57,91.85,92.36,92.87,93.63,94.14,93.63,94.14,94.14,94.4,94.91,94.91,94.91,94.91,95.42,95.42,95.16,94.91,95.67,95.42,95.42,94.65,94.91,95.16,95.42,94.91,94.65,94.65,94.91,94.91,94.65,94.91,94.65,94.65,94.4,94.65,94.14,93.63,93.63,94.14,94.14,92.1,92.36,92.87,93.12,94.14,94.14,94.65,94.65,94.65,94.4,94.4,94.4,94.4,93.89,93.38,93.63,94.4,95.67,97.2,97.72,98.23,97.97,97.46,96.18,96.18,96.18,96.44,96.95,96.18,95.93,95.67,95.93,96.18,95.93,96.18,96.69,96.18,95.16,95.16,96.18,96.18,95.67,95.42,95.42,96.44,96.69,95.67,95.16,95.42,96.18],\"type\":\"scatter\",\"xaxis\":\"x2\",\"yaxis\":\"y2\"}],                        {\"template\":{\"data\":{\"bar\":[{\"error_x\":{\"color\":\"#2a3f5f\"},\"error_y\":{\"color\":\"#2a3f5f\"},\"marker\":{\"line\":{\"color\":\"#E5ECF6\",\"width\":0.5},\"pattern\":{\"fillmode\":\"overlay\",\"size\":10,\"solidity\":0.2}},\"type\":\"bar\"}],\"barpolar\":[{\"marker\":{\"line\":{\"color\":\"#E5ECF6\",\"width\":0.5},\"pattern\":{\"fillmode\":\"overlay\",\"size\":10,\"solidity\":0.2}},\"type\":\"barpolar\"}],\"carpet\":[{\"aaxis\":{\"endlinecolor\":\"#2a3f5f\",\"gridcolor\":\"white\",\"linecolor\":\"white\",\"minorgridcolor\":\"white\",\"startlinecolor\":\"#2a3f5f\"},\"baxis\":{\"endlinecolor\":\"#2a3f5f\",\"gridcolor\":\"white\",\"linecolor\":\"white\",\"minorgridcolor\":\"white\",\"startlinecolor\":\"#2a3f5f\"},\"type\":\"carpet\"}],\"choropleth\":[{\"colorbar\":{\"outlinewidth\":0,\"ticks\":\"\"},\"type\":\"choropleth\"}],\"contour\":[{\"colorbar\":{\"outlinewidth\":0,\"ticks\":\"\"},\"colorscale\":[[0.0,\"#0d0887\"],[0.1111111111111111,\"#46039f\"],[0.2222222222222222,\"#7201a8\"],[0.3333333333333333,\"#9c179e\"],[0.4444444444444444,\"#bd3786\"],[0.5555555555555556,\"#d8576b\"],[0.6666666666666666,\"#ed7953\"],[0.7777777777777778,\"#fb9f3a\"],[0.8888888888888888,\"#fdca26\"],[1.0,\"#f0f921\"]],\"type\":\"contour\"}],\"contourcarpet\":[{\"colorbar\":{\"outlinewidth\":0,\"ticks\":\"\"},\"type\":\"contourcarpet\"}],\"heatmap\":[{\"colorbar\":{\"outlinewidth\":0,\"ticks\":\"\"},\"colorscale\":[[0.0,\"#0d0887\"],[0.1111111111111111,\"#46039f\"],[0.2222222222222222,\"#7201a8\"],[0.3333333333333333,\"#9c179e\"],[0.4444444444444444,\"#bd3786\"],[0.5555555555555556,\"#d8576b\"],[0.6666666666666666,\"#ed7953\"],[0.7777777777777778,\"#fb9f3a\"],[0.8888888888888888,\"#fdca26\"],[1.0,\"#f0f921\"]],\"type\":\"heatmap\"}],\"heatmapgl\":[{\"colorbar\":{\"outlinewidth\":0,\"ticks\":\"\"},\"colorscale\":[[0.0,\"#0d0887\"],[0.1111111111111111,\"#46039f\"],[0.2222222222222222,\"#7201a8\"],[0.3333333333333333,\"#9c179e\"],[0.4444444444444444,\"#bd3786\"],[0.5555555555555556,\"#d8576b\"],[0.6666666666666666,\"#ed7953\"],[0.7777777777777778,\"#fb9f3a\"],[0.8888888888888888,\"#fdca26\"],[1.0,\"#f0f921\"]],\"type\":\"heatmapgl\"}],\"histogram\":[{\"marker\":{\"pattern\":{\"fillmode\":\"overlay\",\"size\":10,\"solidity\":0.2}},\"type\":\"histogram\"}],\"histogram2d\":[{\"colorbar\":{\"outlinewidth\":0,\"ticks\":\"\"},\"colorscale\":[[0.0,\"#0d0887\"],[0.1111111111111111,\"#46039f\"],[0.2222222222222222,\"#7201a8\"],[0.3333333333333333,\"#9c179e\"],[0.4444444444444444,\"#bd3786\"],[0.5555555555555556,\"#d8576b\"],[0.6666666666666666,\"#ed7953\"],[0.7777777777777778,\"#fb9f3a\"],[0.8888888888888888,\"#fdca26\"],[1.0,\"#f0f921\"]],\"type\":\"histogram2d\"}],\"histogram2dcontour\":[{\"colorbar\":{\"outlinewidth\":0,\"ticks\":\"\"},\"colorscale\":[[0.0,\"#0d0887\"],[0.1111111111111111,\"#46039f\"],[0.2222222222222222,\"#7201a8\"],[0.3333333333333333,\"#9c179e\"],[0.4444444444444444,\"#bd3786\"],[0.5555555555555556,\"#d8576b\"],[0.6666666666666666,\"#ed7953\"],[0.7777777777777778,\"#fb9f3a\"],[0.8888888888888888,\"#fdca26\"],[1.0,\"#f0f921\"]],\"type\":\"histogram2dcontour\"}],\"mesh3d\":[{\"colorbar\":{\"outlinewidth\":0,\"ticks\":\"\"},\"type\":\"mesh3d\"}],\"parcoords\":[{\"line\":{\"colorbar\":{\"outlinewidth\":0,\"ticks\":\"\"}},\"type\":\"parcoords\"}],\"pie\":[{\"automargin\":true,\"type\":\"pie\"}],\"scatter\":[{\"marker\":{\"colorbar\":{\"outlinewidth\":0,\"ticks\":\"\"}},\"type\":\"scatter\"}],\"scatter3d\":[{\"line\":{\"colorbar\":{\"outlinewidth\":0,\"ticks\":\"\"}},\"marker\":{\"colorbar\":{\"outlinewidth\":0,\"ticks\":\"\"}},\"type\":\"scatter3d\"}],\"scattercarpet\":[{\"marker\":{\"colorbar\":{\"outlinewidth\":0,\"ticks\":\"\"}},\"type\":\"scattercarpet\"}],\"scattergeo\":[{\"marker\":{\"colorbar\":{\"outlinewidth\":0,\"ticks\":\"\"}},\"type\":\"scattergeo\"}],\"scattergl\":[{\"marker\":{\"colorbar\":{\"outlinewidth\":0,\"ticks\":\"\"}},\"type\":\"scattergl\"}],\"scattermapbox\":[{\"marker\":{\"colorbar\":{\"outlinewidth\":0,\"ticks\":\"\"}},\"type\":\"scattermapbox\"}],\"scatterpolar\":[{\"marker\":{\"colorbar\":{\"outlinewidth\":0,\"ticks\":\"\"}},\"type\":\"scatterpolar\"}],\"scatterpolargl\":[{\"marker\":{\"colorbar\":{\"outlinewidth\":0,\"ticks\":\"\"}},\"type\":\"scatterpolargl\"}],\"scatterternary\":[{\"marker\":{\"colorbar\":{\"outlinewidth\":0,\"ticks\":\"\"}},\"type\":\"scatterternary\"}],\"surface\":[{\"colorbar\":{\"outlinewidth\":0,\"ticks\":\"\"},\"colorscale\":[[0.0,\"#0d0887\"],[0.1111111111111111,\"#46039f\"],[0.2222222222222222,\"#7201a8\"],[0.3333333333333333,\"#9c179e\"],[0.4444444444444444,\"#bd3786\"],[0.5555555555555556,\"#d8576b\"],[0.6666666666666666,\"#ed7953\"],[0.7777777777777778,\"#fb9f3a\"],[0.8888888888888888,\"#fdca26\"],[1.0,\"#f0f921\"]],\"type\":\"surface\"}],\"table\":[{\"cells\":{\"fill\":{\"color\":\"#EBF0F8\"},\"line\":{\"color\":\"white\"}},\"header\":{\"fill\":{\"color\":\"#C8D4E3\"},\"line\":{\"color\":\"white\"}},\"type\":\"table\"}]},\"layout\":{\"annotationdefaults\":{\"arrowcolor\":\"#2a3f5f\",\"arrowhead\":0,\"arrowwidth\":1},\"autotypenumbers\":\"strict\",\"coloraxis\":{\"colorbar\":{\"outlinewidth\":0,\"ticks\":\"\"}},\"colorscale\":{\"diverging\":[[0,\"#8e0152\"],[0.1,\"#c51b7d\"],[0.2,\"#de77ae\"],[0.3,\"#f1b6da\"],[0.4,\"#fde0ef\"],[0.5,\"#f7f7f7\"],[0.6,\"#e6f5d0\"],[0.7,\"#b8e186\"],[0.8,\"#7fbc41\"],[0.9,\"#4d9221\"],[1,\"#276419\"]],\"sequential\":[[0.0,\"#0d0887\"],[0.1111111111111111,\"#46039f\"],[0.2222222222222222,\"#7201a8\"],[0.3333333333333333,\"#9c179e\"],[0.4444444444444444,\"#bd3786\"],[0.5555555555555556,\"#d8576b\"],[0.6666666666666666,\"#ed7953\"],[0.7777777777777778,\"#fb9f3a\"],[0.8888888888888888,\"#fdca26\"],[1.0,\"#f0f921\"]],\"sequentialminus\":[[0.0,\"#0d0887\"],[0.1111111111111111,\"#46039f\"],[0.2222222222222222,\"#7201a8\"],[0.3333333333333333,\"#9c179e\"],[0.4444444444444444,\"#bd3786\"],[0.5555555555555556,\"#d8576b\"],[0.6666666666666666,\"#ed7953\"],[0.7777777777777778,\"#fb9f3a\"],[0.8888888888888888,\"#fdca26\"],[1.0,\"#f0f921\"]]},\"colorway\":[\"#636efa\",\"#EF553B\",\"#00cc96\",\"#ab63fa\",\"#FFA15A\",\"#19d3f3\",\"#FF6692\",\"#B6E880\",\"#FF97FF\",\"#FECB52\"],\"font\":{\"color\":\"#2a3f5f\"},\"geo\":{\"bgcolor\":\"white\",\"lakecolor\":\"white\",\"landcolor\":\"#E5ECF6\",\"showlakes\":true,\"showland\":true,\"subunitcolor\":\"white\"},\"hoverlabel\":{\"align\":\"left\"},\"hovermode\":\"closest\",\"mapbox\":{\"style\":\"light\"},\"paper_bgcolor\":\"white\",\"plot_bgcolor\":\"#E5ECF6\",\"polar\":{\"angularaxis\":{\"gridcolor\":\"white\",\"linecolor\":\"white\",\"ticks\":\"\"},\"bgcolor\":\"#E5ECF6\",\"radialaxis\":{\"gridcolor\":\"white\",\"linecolor\":\"white\",\"ticks\":\"\"}},\"scene\":{\"xaxis\":{\"backgroundcolor\":\"#E5ECF6\",\"gridcolor\":\"white\",\"gridwidth\":2,\"linecolor\":\"white\",\"showbackground\":true,\"ticks\":\"\",\"zerolinecolor\":\"white\"},\"yaxis\":{\"backgroundcolor\":\"#E5ECF6\",\"gridcolor\":\"white\",\"gridwidth\":2,\"linecolor\":\"white\",\"showbackground\":true,\"ticks\":\"\",\"zerolinecolor\":\"white\"},\"zaxis\":{\"backgroundcolor\":\"#E5ECF6\",\"gridcolor\":\"white\",\"gridwidth\":2,\"linecolor\":\"white\",\"showbackground\":true,\"ticks\":\"\",\"zerolinecolor\":\"white\"}},\"shapedefaults\":{\"line\":{\"color\":\"#2a3f5f\"}},\"ternary\":{\"aaxis\":{\"gridcolor\":\"white\",\"linecolor\":\"white\",\"ticks\":\"\"},\"baxis\":{\"gridcolor\":\"white\",\"linecolor\":\"white\",\"ticks\":\"\"},\"bgcolor\":\"#E5ECF6\",\"caxis\":{\"gridcolor\":\"white\",\"linecolor\":\"white\",\"ticks\":\"\"}},\"title\":{\"x\":0.05},\"xaxis\":{\"automargin\":true,\"gridcolor\":\"white\",\"linecolor\":\"white\",\"ticks\":\"\",\"title\":{\"standoff\":15},\"zerolinecolor\":\"white\",\"zerolinewidth\":2},\"yaxis\":{\"automargin\":true,\"gridcolor\":\"white\",\"linecolor\":\"white\",\"ticks\":\"\",\"title\":{\"standoff\":15},\"zerolinecolor\":\"white\",\"zerolinewidth\":2}}},\"xaxis\":{\"anchor\":\"y\",\"domain\":[0.0,1.0],\"title\":{\"text\":\"time (s)\"},\"range\":[0,50]},\"yaxis\":{\"anchor\":\"x\",\"domain\":[0.575,1.0],\"title\":{\"text\":\"PWM of Arduino\"}},\"xaxis2\":{\"anchor\":\"y2\",\"domain\":[0.0,1.0],\"title\":{\"text\":\"time (s)\"},\"range\":[0,50]},\"yaxis2\":{\"anchor\":\"x2\",\"domain\":[0.0,0.425],\"title\":{\"text\":\"Temperature (\\u02daC)\"}},\"height\":1000,\"width\":1000,\"legend\":{\"title\":{\"text\":\"kp = 6, ki = 0.5\"}}},                        {\"responsive\": true}                    ).then(function(){\n",
              "                            \n",
              "var gd = document.getElementById('f1a914af-bf58-40dd-8318-710daac08851');\n",
              "var x = new MutationObserver(function (mutations, observer) {{\n",
              "        var display = window.getComputedStyle(gd).display;\n",
              "        if (!display || display === 'none') {{\n",
              "            console.log([gd, 'removed!']);\n",
              "            Plotly.purge(gd);\n",
              "            observer.disconnect();\n",
              "        }}\n",
              "}});\n",
              "\n",
              "// Listen for the removal of the full notebook cells\n",
              "var notebookContainer = gd.closest('#notebook-container');\n",
              "if (notebookContainer) {{\n",
              "    x.observe(notebookContainer, {childList: true});\n",
              "}}\n",
              "\n",
              "// Listen for the clearing of the current output cell\n",
              "var outputEl = gd.closest('.output');\n",
              "if (outputEl) {{\n",
              "    x.observe(outputEl, {childList: true});\n",
              "}}\n",
              "\n",
              "                        })                };                            </script>        </div>\n",
              "</body>\n",
              "</html>"
            ]
          },
          "metadata": {}
        }
      ]
    },
    {
      "cell_type": "code",
      "source": [
        "#Modeling\n",
        "Al = 0.575 #absoprtion of RCQD #found by perfroming the UV absroption experiment a.u,\n",
        "Iin = 0.200 #J/s #W\n",
        "T0 = 23 #room temperature C\n",
        "\n",
        "def Heat_Model(Al, Iin, T0, T):\n",
        " \n",
        " m = 0.0015 #g mass of 10 ul water with RCQD\n",
        " Cp = 4.186 #J/g.C\n",
        " h = 100 #J/m2.C.s\n",
        " S = 1e-5 #m2 #surface area iof 10ul water in a rectangular chip\n",
        "\n",
        " n = 0.50 #photothermal conversion efficiency\n",
        "\n",
        " A =  ((Iin* (1 - (10**(-Al))))*n) / (m * Cp) \n",
        " B = (h*S)/(m*Cp) \n",
        "\n",
        " T1 = lambda t, A, B: T0 + (A/B) * (1-np.exp(-B*t))\n",
        " t1 = np.linspace(0, 100, 107)\n",
        "\n",
        " opt_val, opt_val2 = opt.curve_fit(T1, t1, T, method = 'trf')\n",
        " A1, B1 = opt_val\n",
        "\n",
        " Tfit= lambda t: T0 + (A1/B1) * (1-np.exp(-B1*t))\n",
        "\n",
        " fun = lambda n: (((Iin* (1 - (10**(-Al))))*n) / (m * Cp)) - A1\n",
        " n_final = opt.root(fun, x0 = 0.2).x\n",
        "\n",
        " figure = make_subplots()\n",
        " figure.add_trace(go.Scatter(x  = t1, y = T1(t, A, B), name = 'Mathematical Model'))\n",
        " figure.add_trace(go.Scatter(x = t-2, y = T, name = 'Experimental Data', mode= 'markers'))\n",
        " figure.add_trace(go.Scatter(x = t1, y = Tfit(t1), name = 'Fitted to Experimental Data', mode= 'markers'))\n",
        " figure.update_xaxes(title = 'time (s)', range = [0, 30], showline = True, ticks = 'outside', linecolor = 'black', nticks = 20)\n",
        " figure.update_yaxes(title = 'Temperature (˚C)', showline = True, ticks = 'outside', linecolor = 'black', nticks = 20)\n",
        " figure.update_layout(height = 800, width = 1000, title = f'Etta = {np.round(n_final, 4)*100}%', \n",
        "                      legend = dict(title = f'Photothermal Conversion Efficiency = {np.round(n_final, 3) * 100} %', y = 0.2, x = 0.50))\n",
        " return figure"
      ],
      "metadata": {
        "id": "4J5otIBqLm2m"
      },
      "execution_count": 60,
      "outputs": []
    },
    {
      "cell_type": "code",
      "source": [
        "Heat_Model(Al, Iin, T0, T)"
      ],
      "metadata": {
        "colab": {
          "base_uri": "https://localhost:8080/",
          "height": 817
        },
        "id": "3KUDnj6iP97D",
        "outputId": "d8c2f43d-c067-478f-f5b5-5b10fc7f8e6a"
      },
      "execution_count": 61,
      "outputs": [
        {
          "output_type": "display_data",
          "data": {
            "text/html": [
              "<html>\n",
              "<head><meta charset=\"utf-8\" /></head>\n",
              "<body>\n",
              "    <div>            <script src=\"https://cdnjs.cloudflare.com/ajax/libs/mathjax/2.7.5/MathJax.js?config=TeX-AMS-MML_SVG\"></script><script type=\"text/javascript\">if (window.MathJax) {MathJax.Hub.Config({SVG: {font: \"STIX-Web\"}});}</script>                <script type=\"text/javascript\">window.PlotlyConfig = {MathJaxConfig: 'local'};</script>\n",
              "        <script src=\"https://cdn.plot.ly/plotly-2.8.3.min.js\"></script>                <div id=\"a97a1fcc-e8cd-41cb-aec9-b9d01fc87bf4\" class=\"plotly-graph-div\" style=\"height:800px; width:1000px;\"></div>            <script type=\"text/javascript\">                                    window.PLOTLYENV=window.PLOTLYENV || {};                                    if (document.getElementById(\"a97a1fcc-e8cd-41cb-aec9-b9d01fc87bf4\")) {                    Plotly.newPlot(                        \"a97a1fcc-e8cd-41cb-aec9-b9d01fc87bf4\",                        [{\"name\":\"Mathematical Model\",\"x\":[0.0,0.9433962264150944,1.8867924528301887,2.830188679245283,3.7735849056603774,4.716981132075472,5.660377358490566,6.60377358490566,7.547169811320755,8.49056603773585,9.433962264150944,10.377358490566039,11.320754716981131,12.264150943396226,13.20754716981132,14.150943396226415,15.09433962264151,16.037735849056602,16.9811320754717,17.92452830188679,18.867924528301888,19.81132075471698,20.754716981132077,21.69811320754717,22.641509433962263,23.58490566037736,24.528301886792452,25.471698113207548,26.41509433962264,27.358490566037737,28.30188679245283,29.245283018867926,30.18867924528302,31.132075471698112,32.075471698113205,33.0188679245283,33.9622641509434,34.905660377358494,35.84905660377358,36.79245283018868,37.735849056603776,38.679245283018865,39.62264150943396,40.56603773584906,41.509433962264154,42.45283018867924,43.39622641509434,44.339622641509436,45.283018867924525,46.22641509433962,47.16981132075472,48.113207547169814,49.056603773584904,50.0,50.943396226415096,51.88679245283019,52.83018867924528,53.77358490566038,54.716981132075475,55.660377358490564,56.60377358490566,57.54716981132076,58.49056603773585,59.43396226415094,60.37735849056604,61.320754716981135,62.264150943396224,63.20754716981132,64.15094339622641,65.09433962264151,66.0377358490566,66.9811320754717,67.9245283018868,68.86792452830188,69.81132075471699,70.75471698113208,71.69811320754717,72.64150943396227,73.58490566037736,74.52830188679245,75.47169811320755,76.41509433962264,77.35849056603773,78.30188679245283,79.24528301886792,80.18867924528303,81.13207547169812,82.0754716981132,83.01886792452831,83.9622641509434,84.90566037735849,85.84905660377359,86.79245283018868,87.73584905660377,88.67924528301887,89.62264150943396,90.56603773584905,91.50943396226415,92.45283018867924,93.39622641509435,94.33962264150944,95.28301886792453,96.22641509433963,97.16981132075472,98.11320754716981,99.05660377358491,100.0],\"y\":[23.0,33.8053406376243,43.019851292090955,50.87774392581616,57.578748347925305,63.293188893015675,68.166313679448,72.3219864870939,75.86583509369827,78.88793609342689,81.46510443959727,83.66284590657636,85.53702209799854,87.13527032203642,88.49821442373367,89.66049735101146,90.65166169983486,91.49690061999989,92.21769816786349,92.83237538233055,93.35655596411088,93.80356339475689,94.18475958934711,94.50983369059877,94.78704834490078,95.0234497200454,95.22504660283275,95.39696312880353,95.54356902614292,95.66859068426054,95.77520587015782,95.8661245000581,95.94365751933084,96.00977564148185,96.06615943922095,96.11424206080875,96.1552456574351,96.1902124475305,96.2200312075948,96.24545986288021,96.26714475213214,96.28563705605423,96.30140680707184,96.3148548364902,96.3263229627171,96.33610267951164,96.34444256509445,96.35155460044224,96.35761955736356,96.36279159330805,96.3672021696993,96.37096339338605,96.37417086614397,96.37690611465608,96.37923866273603,96.3812277984658,96.38292408116432,96.38437062649062,96.38560420234616,96.38665616343144,96.38755324821139,96.38831825854658,96.38897063926466,96.3895269724039,96.39000139869096,96.39040597696604,96.3907509906913,96.39104520933319,96.39129611126228,96.39151007383656,96.39169253549939,96.39184813401245,96.39198082433703,96.39209397916024,96.39219047462105,96.39227276341524,96.3923429371373,96.3924027794441,96.39245381139138,96.39249733009547,96.39253444170315,96.39256608950731,96.39259307792335,96.3926160929356,96.39263571953349,96.39265245658058,96.39266672949469,96.39267890106092,96.39268928065286,96.39269813209621,96.39270568037459,96.39271211734811,96.39271760663004,96.39272228774547,96.39272627967775,96.39272968389272,96.39273258691783,96.39273506254139,96.39273717368812,96.39273897401861,96.39274050929315,96.39274181853494,96.39274293502196,96.39274388713277,96.39274469906785,96.39274539146474,96.39274598192264,96.39274648544962],\"type\":\"scatter\"},{\"mode\":\"markers\",\"name\":\"Experimental Data\",\"x\":[-2.0,-1.0,0.0,1.0,2.0,3.0,4.0,5.0,6.0,7.0,8.0,9.0,10.0,11.0,12.0,13.0,14.0,15.0,16.0,17.0,18.0,19.0,20.0,21.0,22.0,23.0,24.0,25.0,26.0,27.0,28.0,29.0,30.0,31.0,32.0,33.0,34.0,35.0,36.0,37.0,38.0,39.0,40.0,41.0,42.0,43.0,44.0,45.0,46.0,47.0,48.0,49.0,50.0,51.0,52.0,53.0,54.0,55.0,56.0,57.0,58.0,59.0,60.0,61.0,62.0,63.0,64.0,65.0,66.0,67.0,68.0,69.0,70.0,71.0,72.0,73.0,74.0,75.0,76.0,77.0,78.0,79.0,80.0,81.0,82.0,83.0,84.0,85.0,86.0,87.0,88.0,89.0,90.0,91.0,92.0,93.0,94.0,95.0,96.0,97.0,98.0,99.0,100.0,101.0,102.0,103.0,104.0,105.0],\"y\":[52.04,51.02,52.3,55.36,59.44,63.53,67.61,70.92,74.5,78.32,81.13,83.43,85.21,87.51,89.04,90.06,90.57,91.85,92.36,92.87,93.63,94.14,93.63,94.14,94.14,94.4,94.91,94.91,94.91,94.91,95.42,95.42,95.16,94.91,95.67,95.42,95.42,94.65,94.91,95.16,95.42,94.91,94.65,94.65,94.91,94.91,94.65,94.91,94.65,94.65,94.4,94.65,94.14,93.63,93.63,94.14,94.14,92.1,92.36,92.87,93.12,94.14,94.14,94.65,94.65,94.65,94.4,94.4,94.4,94.4,93.89,93.38,93.63,94.4,95.67,97.2,97.72,98.23,97.97,97.46,96.18,96.18,96.18,96.44,96.95,96.18,95.93,95.67,95.93,96.18,95.93,96.18,96.69,96.18,95.16,95.16,96.18,96.18,95.67,95.42,95.42,96.44,96.69,95.67,95.16,95.42,96.18],\"type\":\"scatter\"},{\"mode\":\"markers\",\"name\":\"Fitted to Experimental Data\",\"x\":[0.0,0.9433962264150944,1.8867924528301887,2.830188679245283,3.7735849056603774,4.716981132075472,5.660377358490566,6.60377358490566,7.547169811320755,8.49056603773585,9.433962264150944,10.377358490566039,11.320754716981131,12.264150943396226,13.20754716981132,14.150943396226415,15.09433962264151,16.037735849056602,16.9811320754717,17.92452830188679,18.867924528301888,19.81132075471698,20.754716981132077,21.69811320754717,22.641509433962263,23.58490566037736,24.528301886792452,25.471698113207548,26.41509433962264,27.358490566037737,28.30188679245283,29.245283018867926,30.18867924528302,31.132075471698112,32.075471698113205,33.0188679245283,33.9622641509434,34.905660377358494,35.84905660377358,36.79245283018868,37.735849056603776,38.679245283018865,39.62264150943396,40.56603773584906,41.509433962264154,42.45283018867924,43.39622641509434,44.339622641509436,45.283018867924525,46.22641509433962,47.16981132075472,48.113207547169814,49.056603773584904,50.0,50.943396226415096,51.88679245283019,52.83018867924528,53.77358490566038,54.716981132075475,55.660377358490564,56.60377358490566,57.54716981132076,58.49056603773585,59.43396226415094,60.37735849056604,61.320754716981135,62.264150943396224,63.20754716981132,64.15094339622641,65.09433962264151,66.0377358490566,66.9811320754717,67.9245283018868,68.86792452830188,69.81132075471699,70.75471698113208,71.69811320754717,72.64150943396227,73.58490566037736,74.52830188679245,75.47169811320755,76.41509433962264,77.35849056603773,78.30188679245283,79.24528301886792,80.18867924528303,81.13207547169812,82.0754716981132,83.01886792452831,83.9622641509434,84.90566037735849,85.84905660377359,86.79245283018868,87.73584905660377,88.67924528301887,89.62264150943396,90.56603773584905,91.50943396226415,92.45283018867924,93.39622641509435,94.33962264150944,95.28301886792453,96.22641509433963,97.16981132075472,98.11320754716981,99.05660377358491,100.0],\"y\":[23.0,34.62733746503169,44.38200949271116,52.56562217736572,59.43120580564181,65.19103833599112,70.02320885111462,74.07712391968565,77.47812711933524,80.33137455258841,82.72508618338156,84.73327352269735,86.41802800101853,87.83144078211413,89.01721337715423,90.01200885796084,90.84658544774932,91.54674753901477,92.1341435432203,92.62693524111559,93.04035932942372,93.38719852643821,93.67817680271129,93.92229095702731,94.12708878970643,94.29890247411805,94.44304434205154,94.56397113645968,94.6654218101292,94.75053313089454,94.82193666780962,94.88184015700634,94.93209576300255,94.97425734604074,95.00962850611437,95.03930288916158,95.06419800166002,95.08508357914023,95.10260538574823,95.11730518071913,95.12963746910815,95.13998355469717,95.14866332958069,95.15594516495509,95.16205420892584,95.16717934789396,95.17147904676145,95.17508624853022,95.17811248478576,95.18065132415805,95.18278126538338,95.184568164418,95.18606727064774,95.18732493515174,95.188380043838,95.18926521976232,95.19000783180523,95.1906308408943,95.19115350993634,95.1915919994099,95.1919598670335,95.19226848695864,95.19252740144873,95.19274461591779,95.19292684645094,95.19307972745999,95.19320798589466,95.19331558739576,95.19340585890941,95.19348159155345,95.19354512691625,95.19359842945677,95.19364314724383,95.1936806629131,95.19371213641685,95.19373854088889,95.1937606927328,95.19377927686462,95.19379486788976,95.19380794786937,95.19381892122519,95.19382812724396,95.19383585056791,95.19384232999558,95.1938477658653,95.19385232624954,95.19385615215144,95.19385936186461,95.19386205463063,95.19386431370752,95.19386620894402,95.19386779893918,95.19386913285432,95.19387025193292,95.19387119077595,95.19387197841164,95.19387263919299,95.1938731935508,95.19387365862534,95.19387404879632,95.19387437612748,95.19387465073963,95.19387488112353,95.19387507440248,95.19387523655247,95.19387537258706,95.1938754867123],\"type\":\"scatter\"}],                        {\"template\":{\"data\":{\"bar\":[{\"error_x\":{\"color\":\"#2a3f5f\"},\"error_y\":{\"color\":\"#2a3f5f\"},\"marker\":{\"line\":{\"color\":\"#E5ECF6\",\"width\":0.5},\"pattern\":{\"fillmode\":\"overlay\",\"size\":10,\"solidity\":0.2}},\"type\":\"bar\"}],\"barpolar\":[{\"marker\":{\"line\":{\"color\":\"#E5ECF6\",\"width\":0.5},\"pattern\":{\"fillmode\":\"overlay\",\"size\":10,\"solidity\":0.2}},\"type\":\"barpolar\"}],\"carpet\":[{\"aaxis\":{\"endlinecolor\":\"#2a3f5f\",\"gridcolor\":\"white\",\"linecolor\":\"white\",\"minorgridcolor\":\"white\",\"startlinecolor\":\"#2a3f5f\"},\"baxis\":{\"endlinecolor\":\"#2a3f5f\",\"gridcolor\":\"white\",\"linecolor\":\"white\",\"minorgridcolor\":\"white\",\"startlinecolor\":\"#2a3f5f\"},\"type\":\"carpet\"}],\"choropleth\":[{\"colorbar\":{\"outlinewidth\":0,\"ticks\":\"\"},\"type\":\"choropleth\"}],\"contour\":[{\"colorbar\":{\"outlinewidth\":0,\"ticks\":\"\"},\"colorscale\":[[0.0,\"#0d0887\"],[0.1111111111111111,\"#46039f\"],[0.2222222222222222,\"#7201a8\"],[0.3333333333333333,\"#9c179e\"],[0.4444444444444444,\"#bd3786\"],[0.5555555555555556,\"#d8576b\"],[0.6666666666666666,\"#ed7953\"],[0.7777777777777778,\"#fb9f3a\"],[0.8888888888888888,\"#fdca26\"],[1.0,\"#f0f921\"]],\"type\":\"contour\"}],\"contourcarpet\":[{\"colorbar\":{\"outlinewidth\":0,\"ticks\":\"\"},\"type\":\"contourcarpet\"}],\"heatmap\":[{\"colorbar\":{\"outlinewidth\":0,\"ticks\":\"\"},\"colorscale\":[[0.0,\"#0d0887\"],[0.1111111111111111,\"#46039f\"],[0.2222222222222222,\"#7201a8\"],[0.3333333333333333,\"#9c179e\"],[0.4444444444444444,\"#bd3786\"],[0.5555555555555556,\"#d8576b\"],[0.6666666666666666,\"#ed7953\"],[0.7777777777777778,\"#fb9f3a\"],[0.8888888888888888,\"#fdca26\"],[1.0,\"#f0f921\"]],\"type\":\"heatmap\"}],\"heatmapgl\":[{\"colorbar\":{\"outlinewidth\":0,\"ticks\":\"\"},\"colorscale\":[[0.0,\"#0d0887\"],[0.1111111111111111,\"#46039f\"],[0.2222222222222222,\"#7201a8\"],[0.3333333333333333,\"#9c179e\"],[0.4444444444444444,\"#bd3786\"],[0.5555555555555556,\"#d8576b\"],[0.6666666666666666,\"#ed7953\"],[0.7777777777777778,\"#fb9f3a\"],[0.8888888888888888,\"#fdca26\"],[1.0,\"#f0f921\"]],\"type\":\"heatmapgl\"}],\"histogram\":[{\"marker\":{\"pattern\":{\"fillmode\":\"overlay\",\"size\":10,\"solidity\":0.2}},\"type\":\"histogram\"}],\"histogram2d\":[{\"colorbar\":{\"outlinewidth\":0,\"ticks\":\"\"},\"colorscale\":[[0.0,\"#0d0887\"],[0.1111111111111111,\"#46039f\"],[0.2222222222222222,\"#7201a8\"],[0.3333333333333333,\"#9c179e\"],[0.4444444444444444,\"#bd3786\"],[0.5555555555555556,\"#d8576b\"],[0.6666666666666666,\"#ed7953\"],[0.7777777777777778,\"#fb9f3a\"],[0.8888888888888888,\"#fdca26\"],[1.0,\"#f0f921\"]],\"type\":\"histogram2d\"}],\"histogram2dcontour\":[{\"colorbar\":{\"outlinewidth\":0,\"ticks\":\"\"},\"colorscale\":[[0.0,\"#0d0887\"],[0.1111111111111111,\"#46039f\"],[0.2222222222222222,\"#7201a8\"],[0.3333333333333333,\"#9c179e\"],[0.4444444444444444,\"#bd3786\"],[0.5555555555555556,\"#d8576b\"],[0.6666666666666666,\"#ed7953\"],[0.7777777777777778,\"#fb9f3a\"],[0.8888888888888888,\"#fdca26\"],[1.0,\"#f0f921\"]],\"type\":\"histogram2dcontour\"}],\"mesh3d\":[{\"colorbar\":{\"outlinewidth\":0,\"ticks\":\"\"},\"type\":\"mesh3d\"}],\"parcoords\":[{\"line\":{\"colorbar\":{\"outlinewidth\":0,\"ticks\":\"\"}},\"type\":\"parcoords\"}],\"pie\":[{\"automargin\":true,\"type\":\"pie\"}],\"scatter\":[{\"marker\":{\"colorbar\":{\"outlinewidth\":0,\"ticks\":\"\"}},\"type\":\"scatter\"}],\"scatter3d\":[{\"line\":{\"colorbar\":{\"outlinewidth\":0,\"ticks\":\"\"}},\"marker\":{\"colorbar\":{\"outlinewidth\":0,\"ticks\":\"\"}},\"type\":\"scatter3d\"}],\"scattercarpet\":[{\"marker\":{\"colorbar\":{\"outlinewidth\":0,\"ticks\":\"\"}},\"type\":\"scattercarpet\"}],\"scattergeo\":[{\"marker\":{\"colorbar\":{\"outlinewidth\":0,\"ticks\":\"\"}},\"type\":\"scattergeo\"}],\"scattergl\":[{\"marker\":{\"colorbar\":{\"outlinewidth\":0,\"ticks\":\"\"}},\"type\":\"scattergl\"}],\"scattermapbox\":[{\"marker\":{\"colorbar\":{\"outlinewidth\":0,\"ticks\":\"\"}},\"type\":\"scattermapbox\"}],\"scatterpolar\":[{\"marker\":{\"colorbar\":{\"outlinewidth\":0,\"ticks\":\"\"}},\"type\":\"scatterpolar\"}],\"scatterpolargl\":[{\"marker\":{\"colorbar\":{\"outlinewidth\":0,\"ticks\":\"\"}},\"type\":\"scatterpolargl\"}],\"scatterternary\":[{\"marker\":{\"colorbar\":{\"outlinewidth\":0,\"ticks\":\"\"}},\"type\":\"scatterternary\"}],\"surface\":[{\"colorbar\":{\"outlinewidth\":0,\"ticks\":\"\"},\"colorscale\":[[0.0,\"#0d0887\"],[0.1111111111111111,\"#46039f\"],[0.2222222222222222,\"#7201a8\"],[0.3333333333333333,\"#9c179e\"],[0.4444444444444444,\"#bd3786\"],[0.5555555555555556,\"#d8576b\"],[0.6666666666666666,\"#ed7953\"],[0.7777777777777778,\"#fb9f3a\"],[0.8888888888888888,\"#fdca26\"],[1.0,\"#f0f921\"]],\"type\":\"surface\"}],\"table\":[{\"cells\":{\"fill\":{\"color\":\"#EBF0F8\"},\"line\":{\"color\":\"white\"}},\"header\":{\"fill\":{\"color\":\"#C8D4E3\"},\"line\":{\"color\":\"white\"}},\"type\":\"table\"}]},\"layout\":{\"annotationdefaults\":{\"arrowcolor\":\"#2a3f5f\",\"arrowhead\":0,\"arrowwidth\":1},\"autotypenumbers\":\"strict\",\"coloraxis\":{\"colorbar\":{\"outlinewidth\":0,\"ticks\":\"\"}},\"colorscale\":{\"diverging\":[[0,\"#8e0152\"],[0.1,\"#c51b7d\"],[0.2,\"#de77ae\"],[0.3,\"#f1b6da\"],[0.4,\"#fde0ef\"],[0.5,\"#f7f7f7\"],[0.6,\"#e6f5d0\"],[0.7,\"#b8e186\"],[0.8,\"#7fbc41\"],[0.9,\"#4d9221\"],[1,\"#276419\"]],\"sequential\":[[0.0,\"#0d0887\"],[0.1111111111111111,\"#46039f\"],[0.2222222222222222,\"#7201a8\"],[0.3333333333333333,\"#9c179e\"],[0.4444444444444444,\"#bd3786\"],[0.5555555555555556,\"#d8576b\"],[0.6666666666666666,\"#ed7953\"],[0.7777777777777778,\"#fb9f3a\"],[0.8888888888888888,\"#fdca26\"],[1.0,\"#f0f921\"]],\"sequentialminus\":[[0.0,\"#0d0887\"],[0.1111111111111111,\"#46039f\"],[0.2222222222222222,\"#7201a8\"],[0.3333333333333333,\"#9c179e\"],[0.4444444444444444,\"#bd3786\"],[0.5555555555555556,\"#d8576b\"],[0.6666666666666666,\"#ed7953\"],[0.7777777777777778,\"#fb9f3a\"],[0.8888888888888888,\"#fdca26\"],[1.0,\"#f0f921\"]]},\"colorway\":[\"#636efa\",\"#EF553B\",\"#00cc96\",\"#ab63fa\",\"#FFA15A\",\"#19d3f3\",\"#FF6692\",\"#B6E880\",\"#FF97FF\",\"#FECB52\"],\"font\":{\"color\":\"#2a3f5f\"},\"geo\":{\"bgcolor\":\"white\",\"lakecolor\":\"white\",\"landcolor\":\"#E5ECF6\",\"showlakes\":true,\"showland\":true,\"subunitcolor\":\"white\"},\"hoverlabel\":{\"align\":\"left\"},\"hovermode\":\"closest\",\"mapbox\":{\"style\":\"light\"},\"paper_bgcolor\":\"white\",\"plot_bgcolor\":\"#E5ECF6\",\"polar\":{\"angularaxis\":{\"gridcolor\":\"white\",\"linecolor\":\"white\",\"ticks\":\"\"},\"bgcolor\":\"#E5ECF6\",\"radialaxis\":{\"gridcolor\":\"white\",\"linecolor\":\"white\",\"ticks\":\"\"}},\"scene\":{\"xaxis\":{\"backgroundcolor\":\"#E5ECF6\",\"gridcolor\":\"white\",\"gridwidth\":2,\"linecolor\":\"white\",\"showbackground\":true,\"ticks\":\"\",\"zerolinecolor\":\"white\"},\"yaxis\":{\"backgroundcolor\":\"#E5ECF6\",\"gridcolor\":\"white\",\"gridwidth\":2,\"linecolor\":\"white\",\"showbackground\":true,\"ticks\":\"\",\"zerolinecolor\":\"white\"},\"zaxis\":{\"backgroundcolor\":\"#E5ECF6\",\"gridcolor\":\"white\",\"gridwidth\":2,\"linecolor\":\"white\",\"showbackground\":true,\"ticks\":\"\",\"zerolinecolor\":\"white\"}},\"shapedefaults\":{\"line\":{\"color\":\"#2a3f5f\"}},\"ternary\":{\"aaxis\":{\"gridcolor\":\"white\",\"linecolor\":\"white\",\"ticks\":\"\"},\"baxis\":{\"gridcolor\":\"white\",\"linecolor\":\"white\",\"ticks\":\"\"},\"bgcolor\":\"#E5ECF6\",\"caxis\":{\"gridcolor\":\"white\",\"linecolor\":\"white\",\"ticks\":\"\"}},\"title\":{\"x\":0.05},\"xaxis\":{\"automargin\":true,\"gridcolor\":\"white\",\"linecolor\":\"white\",\"ticks\":\"\",\"title\":{\"standoff\":15},\"zerolinecolor\":\"white\",\"zerolinewidth\":2},\"yaxis\":{\"automargin\":true,\"gridcolor\":\"white\",\"linecolor\":\"white\",\"ticks\":\"\",\"title\":{\"standoff\":15},\"zerolinecolor\":\"white\",\"zerolinewidth\":2}}},\"xaxis\":{\"anchor\":\"y\",\"domain\":[0.0,1.0],\"title\":{\"text\":\"time (s)\"},\"range\":[0,30],\"showline\":true,\"ticks\":\"outside\",\"linecolor\":\"black\",\"nticks\":20},\"yaxis\":{\"anchor\":\"x\",\"domain\":[0.0,1.0],\"title\":{\"text\":\"Temperature (\\u02daC)\"},\"showline\":true,\"ticks\":\"outside\",\"linecolor\":\"black\",\"nticks\":20},\"legend\":{\"title\":{\"text\":\"Photothermal Conversion Efficiency = [57.5] %\"},\"y\":0.2,\"x\":0.5},\"height\":800,\"width\":1000,\"title\":{\"text\":\"Etta = [57.49]%\"}},                        {\"responsive\": true}                    ).then(function(){\n",
              "                            \n",
              "var gd = document.getElementById('a97a1fcc-e8cd-41cb-aec9-b9d01fc87bf4');\n",
              "var x = new MutationObserver(function (mutations, observer) {{\n",
              "        var display = window.getComputedStyle(gd).display;\n",
              "        if (!display || display === 'none') {{\n",
              "            console.log([gd, 'removed!']);\n",
              "            Plotly.purge(gd);\n",
              "            observer.disconnect();\n",
              "        }}\n",
              "}});\n",
              "\n",
              "// Listen for the removal of the full notebook cells\n",
              "var notebookContainer = gd.closest('#notebook-container');\n",
              "if (notebookContainer) {{\n",
              "    x.observe(notebookContainer, {childList: true});\n",
              "}}\n",
              "\n",
              "// Listen for the clearing of the current output cell\n",
              "var outputEl = gd.closest('.output');\n",
              "if (outputEl) {{\n",
              "    x.observe(outputEl, {childList: true});\n",
              "}}\n",
              "\n",
              "                        })                };                            </script>        </div>\n",
              "</body>\n",
              "</html>"
            ]
          },
          "metadata": {}
        }
      ]
    },
    {
      "cell_type": "code",
      "source": [
        ""
      ],
      "metadata": {
        "id": "YQXH4v_SRfOr"
      },
      "execution_count": null,
      "outputs": []
    }
  ]
}